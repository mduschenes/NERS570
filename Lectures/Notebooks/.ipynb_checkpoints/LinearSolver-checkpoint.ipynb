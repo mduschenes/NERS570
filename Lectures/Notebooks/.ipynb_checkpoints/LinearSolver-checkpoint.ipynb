{
 "cells": [
  {
   "cell_type": "markdown",
   "metadata": {},
   "source": [
    "# Lecture 06 Algorithms for Linear Algebra"
   ]
  },
  {
   "cell_type": "markdown",
   "metadata": {},
   "source": [
    "This notebook is to demonstrate the convergence properties of different iterative linear solvers! Before starting, make sure that the necessary python packages are installed. Most solvers used in this demo are from the sparse linear algebra packages supplied by scipy in python."
   ]
  },
  {
   "cell_type": "code",
   "execution_count": null,
   "metadata": {},
   "outputs": [],
   "source": [
    "# !pip3 install --user matplotlib;\n",
    "# !pip3 install --user krypy;\n",
    "# !pip3 install --user pyamg;"
   ]
  },
  {
   "cell_type": "markdown",
   "metadata": {},
   "source": [
    "Now let's start by loading the packages."
   ]
  },
  {
   "cell_type": "code",
   "execution_count": null,
   "metadata": {},
   "outputs": [],
   "source": [
    "from matplotlib import pyplot, animation, rc\n",
    "import matplotlib as mpl\n",
    "from cycler import cycler\n",
    "\n",
    "import numpy as np\n",
    "import nelin\n",
    "import pyamg\n",
    "import time\n",
    "import matplotlib.pyplot as plt\n",
    "from pyamg.aggregation import smoothed_aggregation_solver\n",
    "mpl.style.use('classic')\n",
    "# use latex in matplotlib\n",
    "\n",
    "# get colors\n",
    "mpl.rcParams['axes.prop_cycle'] = cycler(color='bgrcmyk')## Problem Decription\n",
    "colors=mpl.rcParams['axes.prop_cycle'] .by_key()['color']\n"
   ]
  },
  {
   "cell_type": "markdown",
   "metadata": {},
   "source": [
    "## Problem Decription\n",
    "\n",
    "Two problems are used here:\n",
    "\n",
    "1. First is a poisson problem written as:\n",
    "\n",
    "$$-\\nabla^2 u=g$$\n",
    "\n",
    "For 1D case, the dicretization is:\n",
    "$$-\\frac{1}{h^2}(u_{i-1}-2u_{i}+1u_{i+1})=g$$\n",
    "\n",
    "For the 2D case, the dicretization is\n",
    "$$\n",
    "-\\frac{u_{i+1,y}+u_{i-1,j}+u_{i,j+1}+u_{i,j-1}-4u_i}{h^2}=g\n",
    "$$\n",
    "\n",
    "2. The second is a steady-state advection-diffusion problem problem written as:\n",
    "$$u_x+vu_{xx}=0$$\n",
    "\n",
    "For discretization, we introduction both a second-order finite difference approximation for the first-derivative and second-derivatives like:\n",
    "$$\\frac{du}{dx}|_{x=x_i}=\\frac{1}{2h}(-3u_i+4u_{i+1}+3u_{i+2})$$\n",
    "$$\\frac{d^2u}{dx^2}|_{x=x_i}=\\frac{1}{h^2}(u_{i-1}-2u_{i}+u_{i+1})$$\n",
    "\n",
    "\n",
    "\n",
    "All of these problems can be written as a linear system in the form as\n",
    "$$\\bf{A}\\bf{u}=\\bf{b}$$\n",
    "\n",
    "\n",
    "We will show the iterative performance for the following solvers:\n",
    "\n",
    "Basic iterative solver:\n",
    "1. Jacobi Iteration (JI)\n",
    "2. Gauss-Siedel Iteration (GS)\n",
    "\n",
    "Advanced iterative solver (Krylov Solver & Mulitigrid Solver)\n",
    "1. Conjugate Gradient (CG)\n",
    "2. Generalized Minimal Residual Method (GMRES)\n",
    "3. Biconjugate Gradient Stabilized Method (BiCGstab)\n",
    "4. Algebric Multigrid Method (AMG)\n",
    " "
   ]
  },
  {
   "cell_type": "markdown",
   "metadata": {},
   "source": [
    "## Common Iterative Smoother\n",
    "### 1D Poisson Problem"
   ]
  },
  {
   "cell_type": "markdown",
   "metadata": {},
   "source": [
    "To start with, let's start on the 1D poisson problem, thanks to the other developer, we can easily construct the linear system for 1D poisson problem by:"
   ]
  },
  {
   "cell_type": "code",
   "execution_count": null,
   "metadata": {},
   "outputs": [],
   "source": [
    "n = 100\n",
    "A = pyamg.gallery.poisson((n,), format='csr')"
   ]
  },
  {
   "cell_type": "code",
   "execution_count": null,
   "metadata": {},
   "outputs": [],
   "source": [
    "#You can examine the matrix structure here\n",
    "print(A[1,:])\n",
    "# print(A)"
   ]
  },
  {
   "cell_type": "markdown",
   "metadata": {},
   "source": [
    "The linear operator constructed is stored in compress sparse row format. To show convergence of each solver, we set final solution to be $0$, we can see $\\bf{b}$ is also zero. Then the solution of each iterative step is the also the intermediate error.\n",
    "\n",
    "For the initial guess of solution, though traditionally we alway use $b$, here we use a random solution vector. Otherwise the solvers will converge to 0 very fast. "
   ]
  },
  {
   "cell_type": "code",
   "execution_count": null,
   "metadata": {},
   "outputs": [],
   "source": [
    "x_0 = np.sin(np.arange(0,n)/100.0*np.pi*1.0) + np.sin(np.arange(0,n)/100.0*np.pi*6.0)\n",
    "\n",
    "refx = np.zeros(A.shape[0])\n",
    "b=A.dot(np.array(refx))\n",
    "nSize=A.shape[0]\n",
    "\n",
    "print(nSize)\n",
    "print(x_0)"
   ]
  },
  {
   "cell_type": "code",
   "execution_count": null,
   "metadata": {},
   "outputs": [],
   "source": [
    "# %matplotlib notebook\n",
    "from ipywidgets import *\n",
    "import numpy as np\n",
    "import IPython\n",
    "import scipy\n",
    "import matplotlib\n",
    "matplotlib.use('tkAgg')\n",
    "import matplotlib.pyplot as plt\n",
    "\n",
    "# from IPython.display import clear_output\n",
    "\n",
    "nSize=A.shape[0]\n",
    "\n",
    "jac_sol = nelin.solutionvector(nSize,x_0)\n",
    "x_jac=  nelin.Jac(A,b,x0=x_0, tol=1e-9,maxiter=1000,callback=jac_sol.store)\n",
    "resv_jac,resnorm_jac=jac_sol.getres(A,b)\n",
    "jaciter,jacsol=jac_sol.getsol()\n",
    " \n",
    "\n",
    "\n",
    "gs_sol = nelin.solutionvector(nSize,x_0)\n",
    "x_gs =  nelin.GS(A,b,x0=x_0, tol=1e-9,maxiter=1000,w=1,callback=gs_sol.store)\n",
    "resv_gs,resnorm_gs=gs_sol.getres(A,b)\n",
    "gsiter,gssol=gs_sol.getsol()\n",
    "\n",
    "print(resv_jac)\n",
    "\n",
    "\n",
    "# # Create Sub plots\n",
    "# fig,axs = plt.subplots(2, 2,figsize=(1600./200,1500./200), dpi=100)\n",
    "# fig.subplots_adjust(wspace=0.3)\n",
    "# axs[0][0].set_title('Jacobi Iteration Error Residual', fontsize=10)\n",
    "# axs[1][0].set_title('Gauss-Sediel Iteration Error Residual', fontsize=10)\n",
    "# axs[0][0].set_yscale('log')\n",
    "# axs[1][0].set_yscale('log')\n",
    "# axs[0][1].set_title('Jacobi Iteration Error', fontsize=10)\n",
    "# axs[1][1].set_title('GS Iteration Error', fontsize=10)\n",
    "# axs[0][1].set_yscale('log')\n",
    "# axs[1][1].set_yscale('log')\n",
    "# axs[0][0].set_xlim(0,jaciter)\n",
    "# axs[1][0].set_xlim(0,gsiter)\n",
    "# axs[0][0].set_ylim(1e-12,1)\n",
    "# axs[1][0].set_ylim(1e-12,1)\n",
    "# axs[0][1].set_xlim(0,nSize-1)\n",
    "# axs[1][1].set_xlim(0,nSize-1)\n",
    "# axs[0][1].set_ylim(1e-16,1)\n",
    "# axs[1][1].set_ylim(1e-14,1)\n",
    "\n",
    "# # animation function.  This is called sequentially\n",
    "# jacplot,= axs[0][0].plot([], [], color=colors[0])\n",
    "# gsplot,= axs[1][0].plot([], [], color=colors[1])\n",
    "# jacplote,= axs[0][1].plot([], [], color=colors[0])\n",
    "# gsplote,= axs[1][1].plot([], [], color=colors[1])\n",
    "\n",
    "\n",
    "# def update(w=40):\n",
    "#     ijac=w;\n",
    "#     igs=w;\n",
    "\n",
    "#     print('Start')\n",
    "#     if(w>=jaciter):\n",
    "#         ijac=jaciter-1\n",
    "#     if(w>=gsiter):\n",
    "#         igs=gsiter-1\n",
    "\n",
    "\n",
    "#     jacplot.set_data(np.arange(0, ijac+1), resnorm_jac[:ijac+1])\n",
    "#     gsplot.set_data(np.arange(0, igs+1), resnorm_gs[:igs+1])\n",
    "   \n",
    "#     jacplote.set_data(np.arange(0, nSize), np.abs(resv_jac[ijac,:]))\n",
    "#     gsplote.set_data(np.arange(0, nSize), np.abs(resv_gs[igs,:]))\n",
    "\n",
    "#     fig.suptitle('Iteration {}'.format(w), fontsize=20)\n",
    "#     fig.canvas.draw()\n",
    "\n",
    "# interact(update,w=IntSlider(value=0,min=0,max=1000,step=50));\n",
    "# #                 jacplot=fixed(jacplot),gsplot=fixed(gsplot),\n",
    "# #                 jacplote=fixed(jacplote),gsplote=fixed(gsplote));\n",
    "# # If you cannot use iteractive mode us uncomment the nextwo lines    \n",
    "# # ani = animation.FuncAnimation(fig, update, repeat_delay=50,interval=50,repeat=False,frames=len(resnorm_gs)-1, blit=True)\n",
    "# # plt.show();\n",
    "\n",
    "\n",
    "\n",
    "# # interact(update);"
   ]
  },
  {
   "cell_type": "markdown",
   "metadata": {},
   "source": [
    "## Advanced Iterative Solver"
   ]
  },
  {
   "cell_type": "markdown",
   "metadata": {},
   "source": [
    "### 1D Poisson Problem"
   ]
  },
  {
   "cell_type": "code",
   "execution_count": null,
   "metadata": {},
   "outputs": [],
   "source": [
    "pyamg.gallery.poisson((2000,), format='csr')\n",
    "refx = np.random.rand(A.shape[0])\n",
    "b=A.dot(np.array(refx))\n",
    "nSize=A.shape[0]\n",
    "nelin.PrintCompare(A,x_0,b,refx,M=None)"
   ]
  },
  {
   "cell_type": "markdown",
   "metadata": {},
   "source": [
    "### What do you observe?\n",
    "1. Accuray?\n",
    "2. Speed?\n",
    "3. Iteration Number?"
   ]
  },
  {
   "cell_type": "markdown",
   "metadata": {},
   "source": [
    "Now we increase the size of the matrix."
   ]
  },
  {
   "cell_type": "code",
   "execution_count": null,
   "metadata": {},
   "outputs": [],
   "source": [
    "A1 = pyamg.gallery.poisson((2000,), format='csr')\n",
    "b1 = np.zeros(A1.shape[0])\n",
    "x_1 = np.random.randn(A1.shape[0])\n",
    "refx1 = np.ones(A1.shape[0])\n",
    "b1=A1.dot(np.array(refx1))\n",
    "nSize=A1.shape[0]\n",
    "# Case without Preconditioner\n",
    "nelin.PrintCompare(A1,x_1,b1,refx1,M=None)"
   ]
  },
  {
   "cell_type": "markdown",
   "metadata": {},
   "source": [
    "### What do you observe?\n",
    "1. Accuray?\n",
    "2. Speed?\n",
    "3. Iteration Number?\n",
    "4. Comparing with small size problem?"
   ]
  },
  {
   "cell_type": "markdown",
   "metadata": {},
   "source": [
    "Now we see what happened if we use some preconditioner matrix."
   ]
  },
  {
   "cell_type": "code",
   "execution_count": null,
   "metadata": {},
   "outputs": [],
   "source": [
    "print('For Small Size Problem:')\n",
    "ml = smoothed_aggregation_solver(A)  \n",
    "M = ml.aspreconditioner(cycle='V') \n",
    "nelin.PrintCompare(A,x_0,b,refx,M)\n",
    "\n",
    "\n",
    "print('For Large Size Problem:')\n",
    "ml1 = smoothed_aggregation_solver(A1)  \n",
    "M1 = ml1.aspreconditioner(cycle='V') \n",
    "nelin.PrintCompare(A1,x_1,b1,refx1,M1)"
   ]
  },
  {
   "cell_type": "markdown",
   "metadata": {},
   "source": [
    "### What do you observe?\n",
    "1. Accuray?\n",
    "2. Speed?\n",
    "3. Iteration Number?\n",
    "4. Compare with the unpreconditioned case?"
   ]
  },
  {
   "cell_type": "markdown",
   "metadata": {},
   "source": [
    "### 2D Poisson Problem\n",
    "Now let's look at 2D poisson problem."
   ]
  },
  {
   "cell_type": "code",
   "execution_count": null,
   "metadata": {},
   "outputs": [],
   "source": [
    "B = pyamg.gallery.poisson((100,100), format='csr')\n",
    "b = np.zeros(B.shape[0])\n",
    "x_0 = np.random.randn(B.shape[0])\n",
    "refx = np.ones(B.shape[0])\n",
    "b=B.dot(np.array(refx))\n",
    "nSize=B.shape[0]"
   ]
  },
  {
   "cell_type": "markdown",
   "metadata": {},
   "source": [
    "* Unpreconditioned Case"
   ]
  },
  {
   "cell_type": "code",
   "execution_count": null,
   "metadata": {
    "scrolled": true
   },
   "outputs": [],
   "source": [
    "nelin.PrintCompare(B,x_0,b,refx,M=None)"
   ]
  },
  {
   "cell_type": "markdown",
   "metadata": {},
   "source": [
    "* Preconditioned Case"
   ]
  },
  {
   "cell_type": "code",
   "execution_count": null,
   "metadata": {},
   "outputs": [],
   "source": [
    "ml = smoothed_aggregation_solver(B)  \n",
    "M = ml.aspreconditioner(cycle='V') \n",
    "nelin.PrintCompare(B,x_0,b,refx,M)"
   ]
  },
  {
   "cell_type": "markdown",
   "metadata": {},
   "source": [
    "### 1D Advection-diffusion problem\n",
    "Now let's look at 2D poisson problem."
   ]
  },
  {
   "cell_type": "code",
   "execution_count": null,
   "metadata": {},
   "outputs": [],
   "source": [
    "# This is a advection-convection problem\n",
    "v=-0.02;\n",
    "N=1000;\n",
    "grid=N\n",
    "h=1.0/N;\n",
    "s_ad=1/2.0/h*np.array([0,-3,4,-1]);\n",
    "s_diff=v/(h**2.0)*np.array([1,-2,1,0]);\n",
    "grid=N;\n",
    "A=nelin.stencil_grid_1d(s_ad+s_diff,grid,np.array([-1,0,1,2]),format='csr');\n",
    "refx = np.ones(A.shape[0])\n",
    "b=A.dot(np.array(refx))\n",
    "\n",
    "x_0 = b;"
   ]
  },
  {
   "cell_type": "code",
   "execution_count": null,
   "metadata": {},
   "outputs": [],
   "source": [
    "nelin.PrintCompare(A,x_0,b,refx,M=None)"
   ]
  },
  {
   "cell_type": "markdown",
   "metadata": {},
   "source": [
    "### What do you observe?\n",
    "1. Accuray?\n",
    "2. Speed?\n",
    "3. Iteration Number?\n",
    "4. Why CG failed?\n",
    "5. Why AMG error becomes significantly larger"
   ]
  },
  {
   "cell_type": "markdown",
   "metadata": {},
   "source": [
    "## Error Plot"
   ]
  },
  {
   "cell_type": "code",
   "execution_count": null,
   "metadata": {},
   "outputs": [],
   "source": [
    "%matplotlib notebook\n",
    "from ipywidgets import *\n",
    "import numpy as np\n",
    "import IPython\n",
    "import matplotlib.pyplot as plt\n",
    "import scipy\n",
    "from IPython.display import clear_output\n",
    "A = pyamg.gallery.poisson((100,), format='csr')\n",
    "b = np.zeros(A.shape[0])\n",
    "x_0 = np.sin(np.arange(0,100)/100*np.pi)*2\n",
    "refx = np.ones(A.shape[0])\n",
    "b=A.dot(np.array(refx))\n",
    "nSize=A.shape[0]\n",
    "\n",
    "cg_sol = nelin.solutionvector(nSize,x_0)\n",
    "x_cg,info =  scipy.sparse.linalg.cg(A,b,x0=x_0, tol=1e-10,M=None,callback=cg_sol.store)\n",
    "resv_cg,resnorm_cg=cg_sol.getres(A,b)\n",
    " \n",
    "\n",
    "\n",
    "bicg_sol = nelin.solutionvector(nSize,x_0)\n",
    "\n",
    "x_bicg,info =  scipy.sparse.linalg.bicgstab(A,b,x0=x_0, tol=1e-10,M=None,callback=bicg_sol.store)\n",
    "resv_bicg,resnorm_bicg=bicg_sol.getres(A,b)\n",
    "\n",
    "ml = smoothed_aggregation_solver(A) \n",
    "M = ml.aspreconditioner(cycle='V') \n",
    "amg_sol= nelin.solutionvector(nSize,x_0)    \n",
    "x_amg=ml.solve(b=b,x0=x_0,tol=1e-10,callback=amg_sol.store,accel='cg')\n",
    "resv_amg,resnorm_amg=amg_sol.getres(A,b)\n",
    "\n",
    "\n",
    "\n",
    "cgiter,cgsol=cg_sol.getsol()\n",
    "bicgiter,bicgsol=bicg_sol.getsol()\n",
    "amgiter,amgsol=amg_sol.getsol()\n",
    "\n",
    "\n",
    "\n",
    "\n",
    "fig,axs = plt.subplots(3, 2,figsize=(1600./200,1500./200), dpi=100)\n",
    "fig.subplots_adjust(wspace=0.3)\n",
    "axs[0][0].set_title('CG Iteration Error Residual', fontsize=10)\n",
    "axs[1][0].set_title('BiCG Iteration Error Residual', fontsize=10)\n",
    "axs[2][0].set_title('AMG Iteration Error Residual', fontsize=10)\n",
    "axs[0][0].set_yscale('log')\n",
    "axs[1][0].set_yscale('log')\n",
    "axs[2][0].set_yscale('log')\n",
    "axs[0][1].set_title('CG Iteration Error', fontsize=10)\n",
    "axs[1][1].set_title('BiCG Iteration Error', fontsize=10)\n",
    "axs[2][1].set_title('AMG Iteration Error', fontsize=10)\n",
    "axs[0][1].set_yscale('log')\n",
    "axs[1][1].set_yscale('log')\n",
    "axs[2][1].set_yscale('log')\n",
    "\n",
    "axs[0][0].set_xlim(0,cgiter)\n",
    "axs[1][0].set_xlim(0,bicgiter)\n",
    "axs[2][0].set_xlim(0,amgiter)\n",
    "axs[0][0].set_ylim(1e-12,1)\n",
    "axs[1][0].set_ylim(1e-12,1)\n",
    "axs[2][0].set_ylim(1e-12,1)\n",
    "axs[0][1].set_xlim(0,nSize)\n",
    "axs[1][1].set_xlim(0,nSize)\n",
    "axs[2][1].set_xlim(0,nSize)\n",
    "axs[0][1].set_ylim(1e-16,1)\n",
    "axs[1][1].set_ylim(1e-14,1)\n",
    "axs[2][1].set_ylim(1e-14,1)\n",
    "# animation function.  This is called sequentially\n",
    "\n",
    "cgplot,= axs[0][0].plot([], [], color=colors[0])\n",
    "bicgplot,= axs[1][0].plot([], [], color=colors[1])\n",
    "amgplot,= axs[2][0].plot([], [], color=colors[2])\n",
    "\n",
    "cgplote,= axs[0][1].plot([], [], color=colors[0])\n",
    "bicgplote,= axs[1][1].plot([], [], color=colors[1])\n",
    "amgplote,= axs[2][1].plot([], [], color=colors[2])\n",
    "\n",
    "def update(w=40):\n",
    "    icg=w;\n",
    "    ibicg=w;\n",
    "    iamg=w;\n",
    "    print('Start')\n",
    "    if(w>=cgiter):\n",
    "        icg=cgiter-1\n",
    "    if(w>=bicgiter):\n",
    "        ibicg=bicgiter-1\n",
    "    if(w>=amgiter):\n",
    "        iamg=amgiter-1\n",
    "\n",
    "    cgplot.set_data(np.arange(0, icg+1), resnorm_cg[:icg+1])\n",
    "    bicgplot.set_data(np.arange(0, ibicg+1), resnorm_bicg[:ibicg+1])\n",
    "    amgplot.set_data(np.arange(0, iamg+1), resnorm_amg[:iamg+1])    \n",
    "    cgplote.set_data(np.arange(0, nSize), np.abs(resv_cg[icg,:]))\n",
    "    bicgplote.set_data(np.arange(0, nSize), np.abs(resv_bicg[ibicg,:]))\n",
    "    amgplote.set_data(np.arange(0, nSize), np.abs(resv_amg[iamg,:]))\n",
    "    fig.suptitle('Iteration {}'.format(w), fontsize=20)\n",
    "    fig.canvas.draw_idle()\n",
    "\n",
    "interact(update,w=IntSlider(value=0,min=0,max=100,step=1));\n",
    "# If you cannot use iteractive mode us uncomment the nextwo lines    \n",
    "# ani = animation.FuncAnimation(fig, update, repeat_delay=50,interval=50,repeat=False,frames=len(resnorm_bicg)-1, blit=True)\n",
    "# plt.show()\n",
    "\n",
    "\n",
    "\n",
    "# interact(update)"
   ]
  },
  {
   "cell_type": "markdown",
   "metadata": {},
   "source": [
    "## GMRES: Convergence vs Ritz Value"
   ]
  },
  {
   "cell_type": "code",
   "execution_count": null,
   "metadata": {},
   "outputs": [],
   "source": [
    "# This is a advection-convection problem\n",
    "v=-0.02;\n",
    "N=100;\n",
    "n=N\n",
    "grid=N\n",
    "h=1.0/N;\n",
    "s_ad=1/2.0/h*np.array([0,-3,4,-1]);\n",
    "s_diff=v/(h**2.0)*np.array([1,-2,1,0]);\n",
    "grid=N;\n",
    "A=nelin.stencil_grid_1d(s_ad+s_diff,grid,np.array([-1,0,1,2]),format='csr');\n",
    "refx = np.ones(A.shape[0])\n",
    "b=A.dot(np.array(refx))\n",
    "\n",
    "b = refx+np.random.rand(A.shape[0])*0.01;"
   ]
  },
  {
   "cell_type": "code",
   "execution_count": null,
   "metadata": {},
   "outputs": [],
   "source": [
    "# Calculation the eigenvalue\n",
    "evals = np.linalg.eigvals(np.array(A.todense()))"
   ]
  },
  {
   "cell_type": "code",
   "execution_count": null,
   "metadata": {},
   "outputs": [],
   "source": [
    "# pyplot.figure()\n",
    "# pyplot.plot(evals.real, evals.imag, 'x', color=colors[1], alpha=0.5)\n",
    "# pyplot.xscale('log')\n",
    "# pyplot.xscale('log')\n",
    "# pyplot.title('roots of GMRES polynomial')\n",
    "# pyplot.xlabel('Real part')\n",
    "# pyplot.ylabel('Imaginary part')\n"
   ]
  },
  {
   "cell_type": "code",
   "execution_count": null,
   "metadata": {},
   "outputs": [],
   "source": [
    "import krypy\n",
    "import numpy as np\n",
    "b=b;\n",
    "ls = krypy.linsys.LinearSystem(A, b, Ml=None)\n",
    "solver = krypy.linsys.Gmres(ls, tol=1e-9, store_arnoldi=True)\n",
    "\n",
    "H = solver.H\n",
    "\n",
    "def get_gmres_roots(H):\n",
    "    n_, n = H.shape\n",
    "\n",
    "    from scipy.linalg import eig\n",
    "    theta, _ = eig(H[:n, :])\n",
    "    return theta"
   ]
  },
  {
   "cell_type": "code",
   "execution_count": null,
   "metadata": {},
   "outputs": [],
   "source": [
    "%matplotlib notebook\n",
    "nSize=A.shape[0]\n",
    "fig, axs = pyplot.subplots(ncols=2, figsize=(1920./200,1080./200), dpi=100)\n",
    "fig.subplots_adjust(wspace=0.3)\n",
    "line_res, = axs[0].plot([], [])\n",
    "line_roots, = axs[1].plot([], [], '.', color=colors[0])\n",
    "all_roots = np.concatenate(\n",
    "    [evals] + [get_gmres_roots(H[:i+1, :i]) for i in range(1, n+1)]\n",
    "    )\n",
    "axs[0].set_yscale('log')\n",
    "axs[0].set_xlim(0, n)\n",
    "axs[0].set_ylim(np.min(solver.resnorms), np.max(solver.resnorms))\n",
    "axs[0].set_title('GMRES residual norm')\n",
    "axs[0].set_xlabel('GMRES iteration')\n",
    "axs[0].set_ylabel(r'$\\frac{\\|r_i\\|}{\\|b\\|}$')\n",
    "axs[1].plot(evals.real, evals.imag, 'x', color=colors[1], alpha=0.5)\n",
    "axs[1].set_xlim(0.95*np.min(all_roots.real), 1.05*np.max(all_roots.real))\n",
    "axs[1].set_ylim(1.05*np.min(all_roots.imag), 1.05*np.max(all_roots.imag))\n",
    "axs[0].set_yscale('log')\n",
    "axs[0].set_xlim(0, n)\n",
    "axs[1].set_xscale('log')\n",
    "def update(w):\n",
    "    if w <-1:\n",
    "        w=1\n",
    "    if w > nSize:\n",
    "        w=nSize\n",
    "    line_res.set_data(list(range(0, w+1)), solver.resnorms[:w+1])\n",
    "    print(w)\n",
    "    roots = get_gmres_roots(H[:w+1, :w])\n",
    "    line_roots.set_data(roots.real, roots.imag)\n",
    "    fig.canvas.draw_idle()\n",
    "\n",
    "\n",
    "# interact(update,w=IntSlider(value=0,min=1,max=100,step=1));\n",
    "interact(update,w=IntSlider(value=1,min=1,max=100,step=1));\n",
    "# If you cannot use iteractive mode us uncomment the nextwo lines    \n",
    "# ani = animation.FuncAnimation(fig, update,np.arange(1,101),repeat=False,interval=50)\n",
    "# plt.show()"
   ]
  },
  {
   "cell_type": "code",
   "execution_count": null,
   "metadata": {},
   "outputs": [],
   "source": []
  },
  {
   "cell_type": "code",
   "execution_count": null,
   "metadata": {},
   "outputs": [],
   "source": []
  },
  {
   "cell_type": "code",
   "execution_count": null,
   "metadata": {},
   "outputs": [],
   "source": []
  },
  {
   "cell_type": "code",
   "execution_count": null,
   "metadata": {},
   "outputs": [],
   "source": []
  },
  {
   "cell_type": "code",
   "execution_count": null,
   "metadata": {},
   "outputs": [],
   "source": []
  },
  {
   "cell_type": "code",
   "execution_count": null,
   "metadata": {},
   "outputs": [],
   "source": []
  },
  {
   "cell_type": "code",
   "execution_count": null,
   "metadata": {},
   "outputs": [],
   "source": []
  },
  {
   "cell_type": "code",
   "execution_count": null,
   "metadata": {},
   "outputs": [],
   "source": [
    "import os,sys,glob\n",
    "import numpy as np\n",
    "import scipy as sp\n",
    "import matplotlib\n",
    "import matplotlib.pyplot as plt\n",
    "import pandas as pd"
   ]
  },
  {
   "cell_type": "code",
   "execution_count": null,
   "metadata": {},
   "outputs": [],
   "source": [
    "n = 4\n",
    "m = 3\n",
    "p = 2\n",
    "INTS=[0,10]\n",
    "\n",
    "inputs = ['x%d'%i for i in range(m)]\n",
    "outputs = ['y%d'%i for i in range(p)]\n",
    "\n",
    "X = np.random.randint(*INTS,(n,m))\n",
    "y = np.random.randint(*INTS,(n,p))\n",
    "data = np.concatenate([X,y],axis=1)\n",
    "columns = inputs+outputs\n",
    "\n",
    "df = pd.DataFrame(data=data,columns=columns)"
   ]
  },
  {
   "cell_type": "code",
   "execution_count": null,
   "metadata": {},
   "outputs": [],
   "source": [
    "round()"
   ]
  },
  {
   "cell_type": "code",
   "execution_count": null,
   "metadata": {},
   "outputs": [],
   "source": [
    "cwd=''\n",
    "directory=''\n",
    "file='test.csv'\n",
    "path=os.path.join(cwd,directory,file)\n",
    "globdir = glob.glob(directory)\n",
    "print(path,globdir)"
   ]
  },
  {
   "cell_type": "code",
   "execution_count": null,
   "metadata": {
    "scrolled": true
   },
   "outputs": [],
   "source": [
    "print(df)"
   ]
  },
  {
   "cell_type": "code",
   "execution_count": null,
   "metadata": {},
   "outputs": [],
   "source": [
    "a = {1:[1,2,3]}\n",
    "b = {**{1:99},**a}\n",
    "print(b)"
   ]
  },
  {
   "cell_type": "code",
   "execution_count": null,
   "metadata": {},
   "outputs": [],
   "source": []
  },
  {
   "cell_type": "code",
   "execution_count": null,
   "metadata": {},
   "outputs": [],
   "source": []
  },
  {
   "cell_type": "code",
   "execution_count": null,
   "metadata": {},
   "outputs": [],
   "source": []
  },
  {
   "cell_type": "code",
   "execution_count": null,
   "metadata": {},
   "outputs": [],
   "source": []
  },
  {
   "cell_type": "code",
   "execution_count": null,
   "metadata": {},
   "outputs": [],
   "source": []
  },
  {
   "cell_type": "code",
   "execution_count": null,
   "metadata": {},
   "outputs": [],
   "source": []
  },
  {
   "cell_type": "code",
   "execution_count": null,
   "metadata": {},
   "outputs": [],
   "source": []
  },
  {
   "cell_type": "code",
   "execution_count": null,
   "metadata": {},
   "outputs": [],
   "source": [
    "import copy,itertools\n",
    "# Get all combinations of dictionary of lists\n",
    "def _permute(dictionary,_copy=False,_keys=None):\n",
    "    keys, values = zip(*dictionary.items())\n",
    "    if _copy:\n",
    "        copier = lambda x: copy.deepcopy(x)\n",
    "    else:\n",
    "        copier = lambda x:x\n",
    "    permuter = lambda keys,values: [dict(zip(keys,copier(v))) for v in itertools.product(*values)] \n",
    "    if _keys is not None:\n",
    "        _dicts = []\n",
    "        for i,_k in enumerate(_keys):\n",
    "            _inds = [keys.index(k) for k in _k]\n",
    "            _keys[i] = [keys.pop(j) for j in _inds]\n",
    "            _values = [values.pop(j) for j in _inds]\n",
    "            _dicts.append(permuter(_keys[i],_values))\n",
    "\n",
    "\n",
    "    dicts = permuter(keys,values)\n",
    "    # dicts = \n",
    "\n",
    "    return dicts"
   ]
  },
  {
   "cell_type": "code",
   "execution_count": null,
   "metadata": {},
   "outputs": [],
   "source": [
    "dictionary = {1:[{1:3},'2',3],2:['hi','foo','bar'],3:[99,999],4:[77],5:[88,888]}\n",
    "# groups = None\n",
    "groups = [[1,2],[3,5]]\n",
    "keys,values = zip(*dictionary.items())\n",
    "if groups is not None:\n",
    "    inds = [[keys.index(k) for k in group] for group in groups]\n",
    "else:\n",
    "    inds = None\n",
    "conditions = lambda keys,vals,values,inds: (inds in [None,[]]) or all([len(set([values[i] for i in ind]))==1 for ind in inds])\n",
    "\n",
    "print()\n",
    "\n",
    "copier = lambda x: copy.deepcopy(x)\n",
    "permuter = lambda keys,values,inds: [dict(zip(keys,copier([u[1] for u in v]))) for v in itertools.product(*[list(zip(range(len(v)),v)) for v in values]) if conditions(keys,v,[u[0] for u in v],inds)] \n",
    "\n",
    "\n",
    "\n",
    "dicts = permuter(keys,values,inds)\n",
    "\n",
    "print(len(dicts))\n",
    "for d in dicts:\n",
    "    print(d)\n",
    "\n",
    "# groups = [*groups,[k for k in keys if k not in _keys]]"
   ]
  },
  {
   "cell_type": "code",
   "execution_count": 21,
   "metadata": {},
   "outputs": [],
   "source": []
  },
  {
   "cell_type": "code",
   "execution_count": 22,
   "metadata": {},
   "outputs": [
    {
     "name": "stdout",
     "output_type": "stream",
     "text": [
      "{1: {3: {4: 5}, 6: [3.4]}, 4: {6: {5: 99}}}\n",
      "{1: {3: {4: 5}, 6: [3.4]}, 4: {6: {5: 99, 4: 12}}}\n"
     ]
    }
   ],
   "source": [
    "d = {1:{3:{4:5},6:[3.4]},\n",
    "     4:{6:{5:99}}}\n",
    "a = {4:{6:{4:12}}}\n",
    "print(d)\n",
    "_update(d,a)\n",
    "print(d)"
   ]
  },
  {
   "cell_type": "code",
   "execution_count": 130,
   "metadata": {},
   "outputs": [],
   "source": [
    "import os,sys,copy\n",
    "import matplotlib\n",
    "import matplotlib.pyplot as plt\n",
    "import numpy as np\n",
    "import scipy as sp\n",
    "import scipy.io\n",
    "import pandas as pd\n",
    "import h5py,glob,itertools\n",
    "from natsort import natsorted, ns,index_natsorted,order_by_index\n",
    "\n",
    "\n",
    "def plot(x,y,fig,ax,props):\n",
    "    if x is None:\n",
    "        x = np.arange(y.shape[0])\n",
    "    ax.plot(x,y,**props['plot'])\n",
    "    for prop in props['set']:\n",
    "        getattr(ax,prop)(**props['set'][prop])\n",
    "    return\n",
    "\n",
    "def process(x,y,props):\n",
    "    \n",
    "    return x,y\n",
    "\n",
    "def _flatten(df):\n",
    "    for label in df:\n",
    "        data = np.array([i for i in df[label].values]).astype('float64')\n",
    "        if data.ndim<=1:\n",
    "            continue\n",
    "        shape = data.shape\n",
    "        labels = itertools.product(*[range(i) for i in shape[1:]])\n",
    "        for _label in labels:\n",
    "            d = data.reshape(*shape[1:],shape[0])\n",
    "            for i in _label:\n",
    "                d = d[i]\n",
    "            _label = '_'.join([label,*[str(i) for i in _label]])\n",
    "            df[_label] = d\n",
    "        df.drop(columns=label,inplace=True)\n",
    "    return\n",
    "        \n",
    "        \n",
    "\n",
    "def _setup_mat(data,metadata,files,directories,metafile=None,wr='r',quiet=True):\n",
    "    loader = sp.io.loadmat\n",
    "    directories = natsorted([d for directory in directories for d in (glob.glob(directory) if directory not in [''] else [directory])])\n",
    "    for directory in directories:\n",
    "        paths = []\n",
    "        for file in files:\n",
    "            path = os.path.abspath(os.path.join(directory,file))\n",
    "            paths.extend(glob.glob(path,recursive=True))\n",
    "        paths = natsorted(paths)\n",
    "        for path in paths:\n",
    "            try: \n",
    "                _data = loader(path)\n",
    "            except:\n",
    "                return\n",
    "            labels = [k for k in _data if ((not k.startswith('__')) and (not k.endswith('__')))]\n",
    "            shapes = {k: np.array(_data[k].shape) for k in labels if all([s>1 for s in list(_data[k].shape)])}\n",
    "            labels = list(shapes.keys())\n",
    "            dims = min([shapes[k].size for k in shapes])\n",
    "            shape = [max([shapes[k][i] for k in shapes]) for i in range(dims)]\n",
    "\n",
    "            keys = ['_'.join(str(j) for j in i) for i in itertools.product(*[range(i) for i in shape])]\n",
    "            data.update({k:pd.DataFrame() for k in keys if k not in data})\n",
    "            for key in keys:\n",
    "                _shape = [int(i) for i in key.split('_')]\n",
    "                for label in labels:\n",
    "                    d = _data[label]\n",
    "                    for i in _shape:\n",
    "                        d = d[i]\n",
    "                    d = np.squeeze(d.reshape(sorted(d.shape,reverse=True)))\n",
    "                    if d.ndim>1:\n",
    "                        d = [i for i in d]\n",
    "                    data[key][label] = d\n",
    "    return\n",
    "\n",
    "\n",
    "directories=[\"/home/matt/google-drive-um/Michigan/code/graph_theoretic_approaches/seismic_response/data/dynamic\"]\n",
    "files = ['*_story.mat']\n",
    "data = {}\n",
    "metadata = {}\n",
    "_setup_mat(data,metadata,files,directories)\n",
    "\n",
    "for key in data:\n",
    "    _flatten(data[key])"
   ]
  },
  {
   "cell_type": "code",
   "execution_count": 132,
   "metadata": {},
   "outputs": [
    {
     "ename": "ValueError",
     "evalue": "not enough values to unpack (expected 3, got 2)",
     "output_type": "error",
     "traceback": [
      "\u001b[0;31m---------------------------------------------------------------------------\u001b[0m",
      "\u001b[0;31mValueError\u001b[0m                                Traceback (most recent call last)",
      "\u001b[0;32m<ipython-input-132-c701a67c748c>\u001b[0m in \u001b[0;36m<module>\u001b[0;34m\u001b[0m\n\u001b[1;32m     32\u001b[0m     \u001b[0;32mfor\u001b[0m \u001b[0mj\u001b[0m \u001b[0;32min\u001b[0m \u001b[0mrange\u001b[0m\u001b[0;34m(\u001b[0m\u001b[0mNplots\u001b[0m\u001b[0;34m[\u001b[0m\u001b[0;36m1\u001b[0m\u001b[0;34m]\u001b[0m\u001b[0;34m)\u001b[0m\u001b[0;34m:\u001b[0m\u001b[0;34m\u001b[0m\u001b[0;34m\u001b[0m\u001b[0m\n\u001b[1;32m     33\u001b[0m         \u001b[0mkey\u001b[0m \u001b[0;34m=\u001b[0m \u001b[0mplots\u001b[0m\u001b[0;34m[\u001b[0m\u001b[0mi\u001b[0m\u001b[0;34m]\u001b[0m\u001b[0;34m[\u001b[0m\u001b[0mj\u001b[0m\u001b[0;34m]\u001b[0m\u001b[0;34m\u001b[0m\u001b[0;34m\u001b[0m\u001b[0m\n\u001b[0;32m---> 34\u001b[0;31m         \u001b[0;32mfor\u001b[0m \u001b[0ml\u001b[0m\u001b[0;34m,\u001b[0m\u001b[0mxlabel\u001b[0m\u001b[0;34m,\u001b[0m\u001b[0mylabel\u001b[0m \u001b[0;32min\u001b[0m \u001b[0menumerate\u001b[0m\u001b[0;34m(\u001b[0m\u001b[0mzip\u001b[0m\u001b[0;34m(\u001b[0m\u001b[0mxlabels\u001b[0m\u001b[0;34m,\u001b[0m\u001b[0mylabels\u001b[0m\u001b[0;34m)\u001b[0m\u001b[0;34m)\u001b[0m\u001b[0;34m:\u001b[0m\u001b[0;34m\u001b[0m\u001b[0;34m\u001b[0m\u001b[0m\n\u001b[0m\u001b[1;32m     35\u001b[0m             \u001b[0;32mfor\u001b[0m \u001b[0mlabelx\u001b[0m \u001b[0;32min\u001b[0m \u001b[0mdata\u001b[0m\u001b[0;34m[\u001b[0m\u001b[0mkey\u001b[0m\u001b[0;34m]\u001b[0m\u001b[0;34m:\u001b[0m\u001b[0;34m\u001b[0m\u001b[0;34m\u001b[0m\u001b[0m\n\u001b[1;32m     36\u001b[0m                 \u001b[0;32mfor\u001b[0m \u001b[0mlabely\u001b[0m \u001b[0;32min\u001b[0m \u001b[0mdata\u001b[0m\u001b[0;34m[\u001b[0m\u001b[0mkey\u001b[0m\u001b[0;34m]\u001b[0m\u001b[0;34m:\u001b[0m\u001b[0;34m\u001b[0m\u001b[0;34m\u001b[0m\u001b[0m\n",
      "\u001b[0;31mValueError\u001b[0m: not enough values to unpack (expected 3, got 2)"
     ]
    },
    {
     "data": {
      "image/png": "[encoded data removed]",
      "text/plain": [
       "<Figure size 2160x2160 with 50 Axes>"
      ]
     },
     "metadata": {
      "needs_background": "light"
     },
     "output_type": "display_data"
    }
   ],
   "source": [
    "keys = list(data.keys())\n",
    "\n",
    "ylabels = [['GM'],['Drift']]\n",
    "xlabels = [[None],[None]]\n",
    "\n",
    "plots = [4,4]\n",
    "plots = np.sort(np.random.choice(keys,np.product(plots))).reshape(plots)\n",
    "\n",
    "Nkeys = len(keys)\n",
    "Nlabels = len(xlabels)\n",
    "Nplots = plots.shape\n",
    "\n",
    "fig,axes = plt.subplots(Nplots[0],Nlabels*Nplots[1])\n",
    "fig.set_size_inches(**{'w':6*Nplots[0],'h':6*Nplots[1]})\n",
    "fig.subplots_adjust(**{'hspace':0.25,'wspace':0.7})\n",
    "axes = np.array(axes)\n",
    "axes = np.atleast_2d(axes)\n",
    "if axes.shape[0] != Nplots[0]:\n",
    "    axes = axes.T\n",
    "props = lambda i,I,j,J,k,K,key,xlabel,ylabel,**kwargs: {'set':{\n",
    "                                  'set_xlabel':{'xlabel':'Time'},\n",
    "                                  'set_ylabel':{'ylabel':'%s - %d'%('Amplitude',kwargs['row'])},\n",
    "                                  'set_yscale':{'value':'linear'},\n",
    "                                  'set_xscale':{'value':'linear'},\n",
    "                                  'set_title':{'label':'%s - %d'%(keys[key],kwargs['column'])},\n",
    "                                 },\n",
    "               'plot':{'color':dict(zip(ylabels,['r','b','g']))[ylabel]},\n",
    "              }\n",
    "\n",
    "\n",
    "for i in range(Nplots[0]):\n",
    "    for j in range(Nplots[1]):\n",
    "        key = plots[i][j]\n",
    "        inds = [int(n) for n in key.split('_')]\n",
    "        for l,xlabel,ylabel in enumerate(zip(xlabels,ylabels)):\n",
    "            k = j*Nkeys + l\n",
    "            ax = axes[i][k]\n",
    "            for labelx in data[key]:\n",
    "                for labely in data[key]:\n",
    "                    x = data[key][labelx] if (xlabel in labelx) else None\n",
    "                    y = data[key][labely] if (xlabel in labelx) else None\n",
    "                    if y is None:\n",
    "                        continue\n",
    "\n",
    "                    plot(x,y,fig,ax,props(i,Nplots[0],j,Nplots[1],l,Nlabels,\n",
    "                                     key,xlabel,ylabel,row=inds[0],column=inds[1]))\n"
   ]
  }
 ],
 "metadata": {
  "kernelspec": {
   "display_name": "Python 3",
   "language": "python",
   "name": "python3"
  },
  "language_info": {
   "codemirror_mode": {
    "name": "ipython",
    "version": 3
   },
   "file_extension": ".py",
   "mimetype": "text/x-python",
   "name": "python",
   "nbconvert_exporter": "python",
   "pygments_lexer": "ipython3",
   "version": "3.6.12"
  }
 },
 "nbformat": 4,
 "nbformat_minor": 4
}
