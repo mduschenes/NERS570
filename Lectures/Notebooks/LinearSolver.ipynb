{
 "cells": [
  {
   "cell_type": "markdown",
   "metadata": {},
   "source": [
    "# Lecture 06 Algorithms for Linear Algebra"
   ]
  },
  {
   "cell_type": "markdown",
   "metadata": {},
   "source": [
    "This notebook is to demonstrate the convergence properties of different iterative linear solvers! Before starting, make sure that the necessary python packages are installed. Most solvers used in this demo are from the sparse linear algebra packages supplied by scipy in python."
   ]
  },
  {
   "cell_type": "code",
   "execution_count": null,
   "metadata": {},
   "outputs": [],
   "source": [
    "# !pip3 install --user matplotlib;\n",
    "# !pip3 install --user krypy;\n",
    "# !pip3 install --user pyamg;"
   ]
  },
  {
   "cell_type": "markdown",
   "metadata": {},
   "source": [
    "Now let's start by loading the packages."
   ]
  },
  {
   "cell_type": "code",
   "execution_count": null,
   "metadata": {},
   "outputs": [],
   "source": [
    "from matplotlib import pyplot, animation, rc\n",
    "import matplotlib as mpl\n",
    "from cycler import cycler\n",
    "\n",
    "import numpy as np\n",
    "import nelin\n",
    "import pyamg\n",
    "import time\n",
    "import matplotlib.pyplot as plt\n",
    "from pyamg.aggregation import smoothed_aggregation_solver\n",
    "mpl.style.use('classic')\n",
    "# use latex in matplotlib\n",
    "\n",
    "# get colors\n",
    "mpl.rcParams['axes.prop_cycle'] = cycler(color='bgrcmyk')## Problem Decription\n",
    "colors=mpl.rcParams['axes.prop_cycle'] .by_key()['color']\n"
   ]
  },
  {
   "cell_type": "markdown",
   "metadata": {},
   "source": [
    "## Problem Decription\n",
    "\n",
    "Two problems are used here:\n",
    "\n",
    "1. First is a poisson problem written as:\n",
    "\n",
    "$$-\\nabla^2 u=g$$\n",
    "\n",
    "For 1D case, the dicretization is:\n",
    "$$-\\frac{1}{h^2}(u_{i-1}-2u_{i}+1u_{i+1})=g$$\n",
    "\n",
    "For the 2D case, the dicretization is\n",
    "$$\n",
    "-\\frac{u_{i+1,y}+u_{i-1,j}+u_{i,j+1}+u_{i,j-1}-4u_i}{h^2}=g\n",
    "$$\n",
    "\n",
    "2. The second is a steady-state advection-diffusion problem problem written as:\n",
    "$$u_x+vu_{xx}=0$$\n",
    "\n",
    "For discretization, we introduction both a second-order finite difference approximation for the first-derivative and second-derivatives like:\n",
    "$$\\frac{du}{dx}|_{x=x_i}=\\frac{1}{2h}(-3u_i+4u_{i+1}+3u_{i+2})$$\n",
    "$$\\frac{d^2u}{dx^2}|_{x=x_i}=\\frac{1}{h^2}(u_{i-1}-2u_{i}+u_{i+1})$$\n",
    "\n",
    "\n",
    "\n",
    "All of these problems can be written as a linear system in the form as\n",
    "$$\\bf{A}\\bf{u}=\\bf{b}$$\n",
    "\n",
    "\n",
    "We will show the iterative performance for the following solvers:\n",
    "\n",
    "Basic iterative solver:\n",
    "1. Jacobi Iteration (JI)\n",
    "2. Gauss-Siedel Iteration (GS)\n",
    "\n",
    "Advanced iterative solver (Krylov Solver & Mulitigrid Solver)\n",
    "1. Conjugate Gradient (CG)\n",
    "2. Generalized Minimal Residual Method (GMRES)\n",
    "3. Biconjugate Gradient Stabilized Method (BiCGstab)\n",
    "4. Algebric Multigrid Method (AMG)\n",
    " "
   ]
  },
  {
   "cell_type": "markdown",
   "metadata": {},
   "source": [
    "## Common Iterative Smoother\n",
    "### 1D Poisson Problem"
   ]
  },
  {
   "cell_type": "markdown",
   "metadata": {},
   "source": [
    "To start with, let's start on the 1D poisson problem, thanks to the other developer, we can easily construct the linear system for 1D poisson problem by:"
   ]
  },
  {
   "cell_type": "code",
   "execution_count": null,
   "metadata": {},
   "outputs": [],
   "source": [
    "n = 100\n",
    "A = pyamg.gallery.poisson((n,), format='csr')"
   ]
  },
  {
   "cell_type": "code",
   "execution_count": null,
   "metadata": {},
   "outputs": [],
   "source": [
    "#You can examine the matrix structure here\n",
    "print(A[1,:])\n",
    "# print(A)"
   ]
  },
  {
   "cell_type": "markdown",
   "metadata": {},
   "source": [
    "The linear operator constructed is stored in compress sparse row format. To show convergence of each solver, we set final solution to be $0$, we can see $\\bf{b}$ is also zero. Then the solution of each iterative step is the also the intermediate error.\n",
    "\n",
    "For the initial guess of solution, though traditionally we alway use $b$, here we use a random solution vector. Otherwise the solvers will converge to 0 very fast. "
   ]
  },
  {
   "cell_type": "code",
   "execution_count": null,
   "metadata": {},
   "outputs": [],
   "source": [
    "x_0 = np.sin(np.arange(0,n)/100.0*np.pi*1.0) + np.sin(np.arange(0,n)/100.0*np.pi*6.0)\n",
    "\n",
    "refx = np.zeros(A.shape[0])\n",
    "b=A.dot(np.array(refx))\n",
    "nSize=A.shape[0]\n",
    "\n",
    "print(nSize)\n",
    "print(x_0)"
   ]
  },
  {
   "cell_type": "code",
   "execution_count": null,
   "metadata": {},
   "outputs": [],
   "source": [
    "# %matplotlib notebook\n",
    "from ipywidgets import *\n",
    "import numpy as np\n",
    "import IPython\n",
    "import scipy\n",
    "import matplotlib\n",
    "matplotlib.use('tkAgg')\n",
    "import matplotlib.pyplot as plt\n",
    "\n",
    "# from IPython.display import clear_output\n",
    "\n",
    "nSize=A.shape[0]\n",
    "\n",
    "jac_sol = nelin.solutionvector(nSize,x_0)\n",
    "x_jac=  nelin.Jac(A,b,x0=x_0, tol=1e-9,maxiter=1000,callback=jac_sol.store)\n",
    "resv_jac,resnorm_jac=jac_sol.getres(A,b)\n",
    "jaciter,jacsol=jac_sol.getsol()\n",
    " \n",
    "\n",
    "\n",
    "gs_sol = nelin.solutionvector(nSize,x_0)\n",
    "x_gs =  nelin.GS(A,b,x0=x_0, tol=1e-9,maxiter=1000,w=1,callback=gs_sol.store)\n",
    "resv_gs,resnorm_gs=gs_sol.getres(A,b)\n",
    "gsiter,gssol=gs_sol.getsol()\n",
    "\n",
    "print(resv_jac)\n",
    "\n",
    "\n",
    "# # Create Sub plots\n",
    "# fig,axs = plt.subplots(2, 2,figsize=(1600./200,1500./200), dpi=100)\n",
    "# fig.subplots_adjust(wspace=0.3)\n",
    "# axs[0][0].set_title('Jacobi Iteration Error Residual', fontsize=10)\n",
    "# axs[1][0].set_title('Gauss-Sediel Iteration Error Residual', fontsize=10)\n",
    "# axs[0][0].set_yscale('log')\n",
    "# axs[1][0].set_yscale('log')\n",
    "# axs[0][1].set_title('Jacobi Iteration Error', fontsize=10)\n",
    "# axs[1][1].set_title('GS Iteration Error', fontsize=10)\n",
    "# axs[0][1].set_yscale('log')\n",
    "# axs[1][1].set_yscale('log')\n",
    "# axs[0][0].set_xlim(0,jaciter)\n",
    "# axs[1][0].set_xlim(0,gsiter)\n",
    "# axs[0][0].set_ylim(1e-12,1)\n",
    "# axs[1][0].set_ylim(1e-12,1)\n",
    "# axs[0][1].set_xlim(0,nSize-1)\n",
    "# axs[1][1].set_xlim(0,nSize-1)\n",
    "# axs[0][1].set_ylim(1e-16,1)\n",
    "# axs[1][1].set_ylim(1e-14,1)\n",
    "\n",
    "# # animation function.  This is called sequentially\n",
    "# jacplot,= axs[0][0].plot([], [], color=colors[0])\n",
    "# gsplot,= axs[1][0].plot([], [], color=colors[1])\n",
    "# jacplote,= axs[0][1].plot([], [], color=colors[0])\n",
    "# gsplote,= axs[1][1].plot([], [], color=colors[1])\n",
    "\n",
    "\n",
    "# def update(w=40):\n",
    "#     ijac=w;\n",
    "#     igs=w;\n",
    "\n",
    "#     print('Start')\n",
    "#     if(w>=jaciter):\n",
    "#         ijac=jaciter-1\n",
    "#     if(w>=gsiter):\n",
    "#         igs=gsiter-1\n",
    "\n",
    "\n",
    "#     jacplot.set_data(np.arange(0, ijac+1), resnorm_jac[:ijac+1])\n",
    "#     gsplot.set_data(np.arange(0, igs+1), resnorm_gs[:igs+1])\n",
    "   \n",
    "#     jacplote.set_data(np.arange(0, nSize), np.abs(resv_jac[ijac,:]))\n",
    "#     gsplote.set_data(np.arange(0, nSize), np.abs(resv_gs[igs,:]))\n",
    "\n",
    "#     fig.suptitle('Iteration {}'.format(w), fontsize=20)\n",
    "#     fig.canvas.draw()\n",
    "\n",
    "# interact(update,w=IntSlider(value=0,min=0,max=1000,step=50));\n",
    "# #                 jacplot=fixed(jacplot),gsplot=fixed(gsplot),\n",
    "# #                 jacplote=fixed(jacplote),gsplote=fixed(gsplote));\n",
    "# # If you cannot use iteractive mode us uncomment the nextwo lines    \n",
    "# # ani = animation.FuncAnimation(fig, update, repeat_delay=50,interval=50,repeat=False,frames=len(resnorm_gs)-1, blit=True)\n",
    "# # plt.show();\n",
    "\n",
    "\n",
    "\n",
    "# # interact(update);"
   ]
  },
  {
   "cell_type": "markdown",
   "metadata": {},
   "source": [
    "## Advanced Iterative Solver"
   ]
  },
  {
   "cell_type": "markdown",
   "metadata": {},
   "source": [
    "### 1D Poisson Problem"
   ]
  },
  {
   "cell_type": "code",
   "execution_count": null,
   "metadata": {},
   "outputs": [],
   "source": [
    "pyamg.gallery.poisson((2000,), format='csr')\n",
    "refx = np.random.rand(A.shape[0])\n",
    "b=A.dot(np.array(refx))\n",
    "nSize=A.shape[0]\n",
    "nelin.PrintCompare(A,x_0,b,refx,M=None)"
   ]
  },
  {
   "cell_type": "markdown",
   "metadata": {},
   "source": [
    "### What do you observe?\n",
    "1. Accuray?\n",
    "2. Speed?\n",
    "3. Iteration Number?"
   ]
  },
  {
   "cell_type": "markdown",
   "metadata": {},
   "source": [
    "Now we increase the size of the matrix."
   ]
  },
  {
   "cell_type": "code",
   "execution_count": null,
   "metadata": {},
   "outputs": [],
   "source": [
    "A1 = pyamg.gallery.poisson((2000,), format='csr')\n",
    "b1 = np.zeros(A1.shape[0])\n",
    "x_1 = np.random.randn(A1.shape[0])\n",
    "refx1 = np.ones(A1.shape[0])\n",
    "b1=A1.dot(np.array(refx1))\n",
    "nSize=A1.shape[0]\n",
    "# Case without Preconditioner\n",
    "nelin.PrintCompare(A1,x_1,b1,refx1,M=None)"
   ]
  },
  {
   "cell_type": "markdown",
   "metadata": {},
   "source": [
    "### What do you observe?\n",
    "1. Accuray?\n",
    "2. Speed?\n",
    "3. Iteration Number?\n",
    "4. Comparing with small size problem?"
   ]
  },
  {
   "cell_type": "markdown",
   "metadata": {},
   "source": [
    "Now we see what happened if we use some preconditioner matrix."
   ]
  },
  {
   "cell_type": "code",
   "execution_count": null,
   "metadata": {},
   "outputs": [],
   "source": [
    "print('For Small Size Problem:')\n",
    "ml = smoothed_aggregation_solver(A)  \n",
    "M = ml.aspreconditioner(cycle='V') \n",
    "nelin.PrintCompare(A,x_0,b,refx,M)\n",
    "\n",
    "\n",
    "print('For Large Size Problem:')\n",
    "ml1 = smoothed_aggregation_solver(A1)  \n",
    "M1 = ml1.aspreconditioner(cycle='V') \n",
    "nelin.PrintCompare(A1,x_1,b1,refx1,M1)"
   ]
  },
  {
   "cell_type": "markdown",
   "metadata": {},
   "source": [
    "### What do you observe?\n",
    "1. Accuray?\n",
    "2. Speed?\n",
    "3. Iteration Number?\n",
    "4. Compare with the unpreconditioned case?"
   ]
  },
  {
   "cell_type": "markdown",
   "metadata": {},
   "source": [
    "### 2D Poisson Problem\n",
    "Now let's look at 2D poisson problem."
   ]
  },
  {
   "cell_type": "code",
   "execution_count": null,
   "metadata": {},
   "outputs": [],
   "source": [
    "B = pyamg.gallery.poisson((100,100), format='csr')\n",
    "b = np.zeros(B.shape[0])\n",
    "x_0 = np.random.randn(B.shape[0])\n",
    "refx = np.ones(B.shape[0])\n",
    "b=B.dot(np.array(refx))\n",
    "nSize=B.shape[0]"
   ]
  },
  {
   "cell_type": "markdown",
   "metadata": {},
   "source": [
    "* Unpreconditioned Case"
   ]
  },
  {
   "cell_type": "code",
   "execution_count": null,
   "metadata": {
    "scrolled": true
   },
   "outputs": [],
   "source": [
    "nelin.PrintCompare(B,x_0,b,refx,M=None)"
   ]
  },
  {
   "cell_type": "markdown",
   "metadata": {},
   "source": [
    "* Preconditioned Case"
   ]
  },
  {
   "cell_type": "code",
   "execution_count": null,
   "metadata": {},
   "outputs": [],
   "source": [
    "ml = smoothed_aggregation_solver(B)  \n",
    "M = ml.aspreconditioner(cycle='V') \n",
    "nelin.PrintCompare(B,x_0,b,refx,M)"
   ]
  },
  {
   "cell_type": "markdown",
   "metadata": {},
   "source": [
    "### 1D Advection-diffusion problem\n",
    "Now let's look at 2D poisson problem."
   ]
  },
  {
   "cell_type": "code",
   "execution_count": null,
   "metadata": {},
   "outputs": [],
   "source": [
    "# This is a advection-convection problem\n",
    "v=-0.02;\n",
    "N=1000;\n",
    "grid=N\n",
    "h=1.0/N;\n",
    "s_ad=1/2.0/h*np.array([0,-3,4,-1]);\n",
    "s_diff=v/(h**2.0)*np.array([1,-2,1,0]);\n",
    "grid=N;\n",
    "A=nelin.stencil_grid_1d(s_ad+s_diff,grid,np.array([-1,0,1,2]),format='csr');\n",
    "refx = np.ones(A.shape[0])\n",
    "b=A.dot(np.array(refx))\n",
    "\n",
    "x_0 = b;"
   ]
  },
  {
   "cell_type": "code",
   "execution_count": null,
   "metadata": {},
   "outputs": [],
   "source": [
    "nelin.PrintCompare(A,x_0,b,refx,M=None)"
   ]
  },
  {
   "cell_type": "markdown",
   "metadata": {},
   "source": [
    "### What do you observe?\n",
    "1. Accuray?\n",
    "2. Speed?\n",
    "3. Iteration Number?\n",
    "4. Why CG failed?\n",
    "5. Why AMG error becomes significantly larger"
   ]
  },
  {
   "cell_type": "markdown",
   "metadata": {},
   "source": [
    "## Error Plot"
   ]
  },
  {
   "cell_type": "code",
   "execution_count": null,
   "metadata": {},
   "outputs": [],
   "source": [
    "%matplotlib notebook\n",
    "from ipywidgets import *\n",
    "import numpy as np\n",
    "import IPython\n",
    "import matplotlib.pyplot as plt\n",
    "import scipy\n",
    "from IPython.display import clear_output\n",
    "A = pyamg.gallery.poisson((100,), format='csr')\n",
    "b = np.zeros(A.shape[0])\n",
    "x_0 = np.sin(np.arange(0,100)/100*np.pi)*2\n",
    "refx = np.ones(A.shape[0])\n",
    "b=A.dot(np.array(refx))\n",
    "nSize=A.shape[0]\n",
    "\n",
    "cg_sol = nelin.solutionvector(nSize,x_0)\n",
    "x_cg,info =  scipy.sparse.linalg.cg(A,b,x0=x_0, tol=1e-10,M=None,callback=cg_sol.store)\n",
    "resv_cg,resnorm_cg=cg_sol.getres(A,b)\n",
    " \n",
    "\n",
    "\n",
    "bicg_sol = nelin.solutionvector(nSize,x_0)\n",
    "\n",
    "x_bicg,info =  scipy.sparse.linalg.bicgstab(A,b,x0=x_0, tol=1e-10,M=None,callback=bicg_sol.store)\n",
    "resv_bicg,resnorm_bicg=bicg_sol.getres(A,b)\n",
    "\n",
    "ml = smoothed_aggregation_solver(A) \n",
    "M = ml.aspreconditioner(cycle='V') \n",
    "amg_sol= nelin.solutionvector(nSize,x_0)    \n",
    "x_amg=ml.solve(b=b,x0=x_0,tol=1e-10,callback=amg_sol.store,accel='cg')\n",
    "resv_amg,resnorm_amg=amg_sol.getres(A,b)\n",
    "\n",
    "\n",
    "\n",
    "cgiter,cgsol=cg_sol.getsol()\n",
    "bicgiter,bicgsol=bicg_sol.getsol()\n",
    "amgiter,amgsol=amg_sol.getsol()\n",
    "\n",
    "\n",
    "\n",
    "\n",
    "fig,axs = plt.subplots(3, 2,figsize=(1600./200,1500./200), dpi=100)\n",
    "fig.subplots_adjust(wspace=0.3)\n",
    "axs[0][0].set_title('CG Iteration Error Residual', fontsize=10)\n",
    "axs[1][0].set_title('BiCG Iteration Error Residual', fontsize=10)\n",
    "axs[2][0].set_title('AMG Iteration Error Residual', fontsize=10)\n",
    "axs[0][0].set_yscale('log')\n",
    "axs[1][0].set_yscale('log')\n",
    "axs[2][0].set_yscale('log')\n",
    "axs[0][1].set_title('CG Iteration Error', fontsize=10)\n",
    "axs[1][1].set_title('BiCG Iteration Error', fontsize=10)\n",
    "axs[2][1].set_title('AMG Iteration Error', fontsize=10)\n",
    "axs[0][1].set_yscale('log')\n",
    "axs[1][1].set_yscale('log')\n",
    "axs[2][1].set_yscale('log')\n",
    "\n",
    "axs[0][0].set_xlim(0,cgiter)\n",
    "axs[1][0].set_xlim(0,bicgiter)\n",
    "axs[2][0].set_xlim(0,amgiter)\n",
    "axs[0][0].set_ylim(1e-12,1)\n",
    "axs[1][0].set_ylim(1e-12,1)\n",
    "axs[2][0].set_ylim(1e-12,1)\n",
    "axs[0][1].set_xlim(0,nSize)\n",
    "axs[1][1].set_xlim(0,nSize)\n",
    "axs[2][1].set_xlim(0,nSize)\n",
    "axs[0][1].set_ylim(1e-16,1)\n",
    "axs[1][1].set_ylim(1e-14,1)\n",
    "axs[2][1].set_ylim(1e-14,1)\n",
    "# animation function.  This is called sequentially\n",
    "\n",
    "cgplot,= axs[0][0].plot([], [], color=colors[0])\n",
    "bicgplot,= axs[1][0].plot([], [], color=colors[1])\n",
    "amgplot,= axs[2][0].plot([], [], color=colors[2])\n",
    "\n",
    "cgplote,= axs[0][1].plot([], [], color=colors[0])\n",
    "bicgplote,= axs[1][1].plot([], [], color=colors[1])\n",
    "amgplote,= axs[2][1].plot([], [], color=colors[2])\n",
    "\n",
    "def update(w=40):\n",
    "    icg=w;\n",
    "    ibicg=w;\n",
    "    iamg=w;\n",
    "    print('Start')\n",
    "    if(w>=cgiter):\n",
    "        icg=cgiter-1\n",
    "    if(w>=bicgiter):\n",
    "        ibicg=bicgiter-1\n",
    "    if(w>=amgiter):\n",
    "        iamg=amgiter-1\n",
    "\n",
    "    cgplot.set_data(np.arange(0, icg+1), resnorm_cg[:icg+1])\n",
    "    bicgplot.set_data(np.arange(0, ibicg+1), resnorm_bicg[:ibicg+1])\n",
    "    amgplot.set_data(np.arange(0, iamg+1), resnorm_amg[:iamg+1])    \n",
    "    cgplote.set_data(np.arange(0, nSize), np.abs(resv_cg[icg,:]))\n",
    "    bicgplote.set_data(np.arange(0, nSize), np.abs(resv_bicg[ibicg,:]))\n",
    "    amgplote.set_data(np.arange(0, nSize), np.abs(resv_amg[iamg,:]))\n",
    "    fig.suptitle('Iteration {}'.format(w), fontsize=20)\n",
    "    fig.canvas.draw_idle()\n",
    "\n",
    "interact(update,w=IntSlider(value=0,min=0,max=100,step=1));\n",
    "# If you cannot use iteractive mode us uncomment the nextwo lines    \n",
    "# ani = animation.FuncAnimation(fig, update, repeat_delay=50,interval=50,repeat=False,frames=len(resnorm_bicg)-1, blit=True)\n",
    "# plt.show()\n",
    "\n",
    "\n",
    "\n",
    "# interact(update)"
   ]
  },
  {
   "cell_type": "markdown",
   "metadata": {},
   "source": [
    "## GMRES: Convergence vs Ritz Value"
   ]
  },
  {
   "cell_type": "code",
   "execution_count": null,
   "metadata": {},
   "outputs": [],
   "source": [
    "# This is a advection-convection problem\n",
    "v=-0.02;\n",
    "N=100;\n",
    "n=N\n",
    "grid=N\n",
    "h=1.0/N;\n",
    "s_ad=1/2.0/h*np.array([0,-3,4,-1]);\n",
    "s_diff=v/(h**2.0)*np.array([1,-2,1,0]);\n",
    "grid=N;\n",
    "A=nelin.stencil_grid_1d(s_ad+s_diff,grid,np.array([-1,0,1,2]),format='csr');\n",
    "refx = np.ones(A.shape[0])\n",
    "b=A.dot(np.array(refx))\n",
    "\n",
    "b = refx+np.random.rand(A.shape[0])*0.01;"
   ]
  },
  {
   "cell_type": "code",
   "execution_count": null,
   "metadata": {},
   "outputs": [],
   "source": [
    "# Calculation the eigenvalue\n",
    "evals = np.linalg.eigvals(np.array(A.todense()))"
   ]
  },
  {
   "cell_type": "code",
   "execution_count": null,
   "metadata": {},
   "outputs": [],
   "source": [
    "# pyplot.figure()\n",
    "# pyplot.plot(evals.real, evals.imag, 'x', color=colors[1], alpha=0.5)\n",
    "# pyplot.xscale('log')\n",
    "# pyplot.xscale('log')\n",
    "# pyplot.title('roots of GMRES polynomial')\n",
    "# pyplot.xlabel('Real part')\n",
    "# pyplot.ylabel('Imaginary part')\n"
   ]
  },
  {
   "cell_type": "code",
   "execution_count": null,
   "metadata": {},
   "outputs": [],
   "source": [
    "import krypy\n",
    "import numpy as np\n",
    "b=b;\n",
    "ls = krypy.linsys.LinearSystem(A, b, Ml=None)\n",
    "solver = krypy.linsys.Gmres(ls, tol=1e-9, store_arnoldi=True)\n",
    "\n",
    "H = solver.H\n",
    "\n",
    "def get_gmres_roots(H):\n",
    "    n_, n = H.shape\n",
    "\n",
    "    from scipy.linalg import eig\n",
    "    theta, _ = eig(H[:n, :])\n",
    "    return theta"
   ]
  },
  {
   "cell_type": "code",
   "execution_count": null,
   "metadata": {},
   "outputs": [],
   "source": [
    "%matplotlib notebook\n",
    "nSize=A.shape[0]\n",
    "fig, axs = pyplot.subplots(ncols=2, figsize=(1920./200,1080./200), dpi=100)\n",
    "fig.subplots_adjust(wspace=0.3)\n",
    "line_res, = axs[0].plot([], [])\n",
    "line_roots, = axs[1].plot([], [], '.', color=colors[0])\n",
    "all_roots = np.concatenate(\n",
    "    [evals] + [get_gmres_roots(H[:i+1, :i]) for i in range(1, n+1)]\n",
    "    )\n",
    "axs[0].set_yscale('log')\n",
    "axs[0].set_xlim(0, n)\n",
    "axs[0].set_ylim(np.min(solver.resnorms), np.max(solver.resnorms))\n",
    "axs[0].set_title('GMRES residual norm')\n",
    "axs[0].set_xlabel('GMRES iteration')\n",
    "axs[0].set_ylabel(r'$\\frac{\\|r_i\\|}{\\|b\\|}$')\n",
    "axs[1].plot(evals.real, evals.imag, 'x', color=colors[1], alpha=0.5)\n",
    "axs[1].set_xlim(0.95*np.min(all_roots.real), 1.05*np.max(all_roots.real))\n",
    "axs[1].set_ylim(1.05*np.min(all_roots.imag), 1.05*np.max(all_roots.imag))\n",
    "axs[0].set_yscale('log')\n",
    "axs[0].set_xlim(0, n)\n",
    "axs[1].set_xscale('log')\n",
    "def update(w):\n",
    "    if w <-1:\n",
    "        w=1\n",
    "    if w > nSize:\n",
    "        w=nSize\n",
    "    line_res.set_data(list(range(0, w+1)), solver.resnorms[:w+1])\n",
    "    print(w)\n",
    "    roots = get_gmres_roots(H[:w+1, :w])\n",
    "    line_roots.set_data(roots.real, roots.imag)\n",
    "    fig.canvas.draw_idle()\n",
    "\n",
    "\n",
    "# interact(update,w=IntSlider(value=0,min=1,max=100,step=1));\n",
    "interact(update,w=IntSlider(value=1,min=1,max=100,step=1));\n",
    "# If you cannot use iteractive mode us uncomment the nextwo lines    \n",
    "# ani = animation.FuncAnimation(fig, update,np.arange(1,101),repeat=False,interval=50)\n",
    "# plt.show()"
   ]
  },
  {
   "cell_type": "code",
   "execution_count": null,
   "metadata": {},
   "outputs": [],
   "source": []
  },
  {
   "cell_type": "code",
   "execution_count": null,
   "metadata": {},
   "outputs": [],
   "source": []
  },
  {
   "cell_type": "code",
   "execution_count": null,
   "metadata": {},
   "outputs": [],
   "source": []
  },
  {
   "cell_type": "code",
   "execution_count": null,
   "metadata": {},
   "outputs": [],
   "source": []
  },
  {
   "cell_type": "code",
   "execution_count": 189,
   "metadata": {},
   "outputs": [],
   "source": [
    "import os,sys,copy\n",
    "import numpy as np\n",
    "import scipy as sp\n",
    "import pyamg"
   ]
  },
  {
   "cell_type": "code",
   "execution_count": 201,
   "metadata": {},
   "outputs": [
    {
     "name": "stdout",
     "output_type": "stream",
     "text": [
      "[0.95949297+0.j] 23.2379000772445\n"
     ]
    },
    {
     "ename": "RuntimeError",
     "evalue": "Factor is exactly singular",
     "output_type": "error",
     "traceback": [
      "\u001b[0;31m---------------------------------------------------------------------------\u001b[0m",
      "\u001b[0;31mRuntimeError\u001b[0m                              Traceback (most recent call last)",
      "\u001b[0;32m<ipython-input-201-87e186f9d66a>\u001b[0m in \u001b[0;36m<module>\u001b[0;34m\u001b[0m\n\u001b[1;32m     12\u001b[0m         \u001b[0mB\u001b[0m \u001b[0;34m=\u001b[0m \u001b[0miterates\u001b[0m\u001b[0;34m[\u001b[0m\u001b[0mmethod\u001b[0m\u001b[0;34m]\u001b[0m\u001b[0;34m(\u001b[0m\u001b[0mA\u001b[0m\u001b[0;34m,\u001b[0m\u001b[0mD\u001b[0m\u001b[0;34m,\u001b[0m\u001b[0mU\u001b[0m\u001b[0;34m,\u001b[0m\u001b[0mL\u001b[0m\u001b[0;34m)\u001b[0m\u001b[0;34m\u001b[0m\u001b[0;34m\u001b[0m\u001b[0m\n\u001b[1;32m     13\u001b[0m         \u001b[0meigs\u001b[0m \u001b[0;34m=\u001b[0m \u001b[0msp\u001b[0m\u001b[0;34m.\u001b[0m\u001b[0msparse\u001b[0m\u001b[0;34m.\u001b[0m\u001b[0mlinalg\u001b[0m\u001b[0;34m.\u001b[0m\u001b[0meigs\u001b[0m\u001b[0;34m(\u001b[0m\u001b[0mB\u001b[0m\u001b[0;34m,\u001b[0m\u001b[0mk\u001b[0m\u001b[0;34m=\u001b[0m\u001b[0;36m1\u001b[0m\u001b[0;34m,\u001b[0m\u001b[0mreturn_eigenvectors\u001b[0m\u001b[0;34m=\u001b[0m\u001b[0;32mFalse\u001b[0m\u001b[0;34m,\u001b[0m\u001b[0mwhich\u001b[0m\u001b[0;34m=\u001b[0m\u001b[0;34m'LM'\u001b[0m\u001b[0;34m,\u001b[0m\u001b[0mmaxiter\u001b[0m\u001b[0;34m=\u001b[0m\u001b[0mn\u001b[0m\u001b[0;34m*\u001b[0m\u001b[0;36m1000\u001b[0m\u001b[0;34m,\u001b[0m\u001b[0msigma\u001b[0m\u001b[0;34m=\u001b[0m\u001b[0;36m1.0\u001b[0m\u001b[0;34m)\u001b[0m\u001b[0;34m\u001b[0m\u001b[0;34m\u001b[0m\u001b[0m\n\u001b[0;32m---> 14\u001b[0;31m         \u001b[0mcondition\u001b[0m \u001b[0;34m=\u001b[0m \u001b[0msp\u001b[0m\u001b[0;34m.\u001b[0m\u001b[0msparse\u001b[0m\u001b[0;34m.\u001b[0m\u001b[0mlinalg\u001b[0m\u001b[0;34m.\u001b[0m\u001b[0mnorm\u001b[0m\u001b[0;34m(\u001b[0m\u001b[0mB\u001b[0m\u001b[0;34m)\u001b[0m\u001b[0;34m*\u001b[0m\u001b[0msp\u001b[0m\u001b[0;34m.\u001b[0m\u001b[0msparse\u001b[0m\u001b[0;34m.\u001b[0m\u001b[0mlinalg\u001b[0m\u001b[0;34m.\u001b[0m\u001b[0mnorm\u001b[0m\u001b[0;34m(\u001b[0m\u001b[0msp\u001b[0m\u001b[0;34m.\u001b[0m\u001b[0msparse\u001b[0m\u001b[0;34m.\u001b[0m\u001b[0mlinalg\u001b[0m\u001b[0;34m.\u001b[0m\u001b[0minv\u001b[0m\u001b[0;34m(\u001b[0m\u001b[0mB\u001b[0m\u001b[0;34m)\u001b[0m\u001b[0;34m)\u001b[0m\u001b[0;34m\u001b[0m\u001b[0;34m\u001b[0m\u001b[0m\n\u001b[0m\u001b[1;32m     15\u001b[0m \u001b[0;34m\u001b[0m\u001b[0m\n\u001b[1;32m     16\u001b[0m         \u001b[0mprint\u001b[0m\u001b[0;34m(\u001b[0m\u001b[0meigs\u001b[0m\u001b[0;34m,\u001b[0m\u001b[0mcondition\u001b[0m\u001b[0;34m)\u001b[0m\u001b[0;34m\u001b[0m\u001b[0;34m\u001b[0m\u001b[0m\n",
      "\u001b[0;32m~/miniconda3/envs/py36/lib/python3.6/site-packages/scipy/sparse/linalg/matfuncs.py\u001b[0m in \u001b[0;36minv\u001b[0;34m(A)\u001b[0m\n\u001b[1;32m     76\u001b[0m \u001b[0;34m\u001b[0m\u001b[0m\n\u001b[1;32m     77\u001b[0m     \u001b[0mI\u001b[0m \u001b[0;34m=\u001b[0m \u001b[0m_ident_like\u001b[0m\u001b[0;34m(\u001b[0m\u001b[0mA\u001b[0m\u001b[0;34m)\u001b[0m\u001b[0;34m\u001b[0m\u001b[0;34m\u001b[0m\u001b[0m\n\u001b[0;32m---> 78\u001b[0;31m     \u001b[0mAinv\u001b[0m \u001b[0;34m=\u001b[0m \u001b[0mspsolve\u001b[0m\u001b[0;34m(\u001b[0m\u001b[0mA\u001b[0m\u001b[0;34m,\u001b[0m \u001b[0mI\u001b[0m\u001b[0;34m)\u001b[0m\u001b[0;34m\u001b[0m\u001b[0;34m\u001b[0m\u001b[0m\n\u001b[0m\u001b[1;32m     79\u001b[0m     \u001b[0;32mreturn\u001b[0m \u001b[0mAinv\u001b[0m\u001b[0;34m\u001b[0m\u001b[0;34m\u001b[0m\u001b[0m\n\u001b[1;32m     80\u001b[0m \u001b[0;34m\u001b[0m\u001b[0m\n",
      "\u001b[0;32m~/miniconda3/envs/py36/lib/python3.6/site-packages/scipy/sparse/linalg/dsolve/linsolve.py\u001b[0m in \u001b[0;36mspsolve\u001b[0;34m(A, b, permc_spec, use_umfpack)\u001b[0m\n\u001b[1;32m    210\u001b[0m         \u001b[0;32melse\u001b[0m\u001b[0;34m:\u001b[0m\u001b[0;34m\u001b[0m\u001b[0;34m\u001b[0m\u001b[0m\n\u001b[1;32m    211\u001b[0m             \u001b[0;31m# b is sparse\u001b[0m\u001b[0;34m\u001b[0m\u001b[0;34m\u001b[0m\u001b[0;34m\u001b[0m\u001b[0m\n\u001b[0;32m--> 212\u001b[0;31m             \u001b[0mAfactsolve\u001b[0m \u001b[0;34m=\u001b[0m \u001b[0mfactorized\u001b[0m\u001b[0;34m(\u001b[0m\u001b[0mA\u001b[0m\u001b[0;34m)\u001b[0m\u001b[0;34m\u001b[0m\u001b[0;34m\u001b[0m\u001b[0m\n\u001b[0m\u001b[1;32m    213\u001b[0m \u001b[0;34m\u001b[0m\u001b[0m\n\u001b[1;32m    214\u001b[0m             \u001b[0;32mif\u001b[0m \u001b[0;32mnot\u001b[0m \u001b[0;34m(\u001b[0m\u001b[0misspmatrix_csc\u001b[0m\u001b[0;34m(\u001b[0m\u001b[0mb\u001b[0m\u001b[0;34m)\u001b[0m \u001b[0;32mor\u001b[0m \u001b[0mis_pydata_spmatrix\u001b[0m\u001b[0;34m(\u001b[0m\u001b[0mb\u001b[0m\u001b[0;34m)\u001b[0m\u001b[0;34m)\u001b[0m\u001b[0;34m:\u001b[0m\u001b[0;34m\u001b[0m\u001b[0;34m\u001b[0m\u001b[0m\n",
      "\u001b[0;32m~/miniconda3/envs/py36/lib/python3.6/site-packages/scipy/sparse/linalg/dsolve/linsolve.py\u001b[0m in \u001b[0;36mfactorized\u001b[0;34m(A)\u001b[0m\n\u001b[1;32m    486\u001b[0m         \u001b[0;32mreturn\u001b[0m \u001b[0msolve\u001b[0m\u001b[0;34m\u001b[0m\u001b[0;34m\u001b[0m\u001b[0m\n\u001b[1;32m    487\u001b[0m     \u001b[0;32melse\u001b[0m\u001b[0;34m:\u001b[0m\u001b[0;34m\u001b[0m\u001b[0;34m\u001b[0m\u001b[0m\n\u001b[0;32m--> 488\u001b[0;31m         \u001b[0;32mreturn\u001b[0m \u001b[0msplu\u001b[0m\u001b[0;34m(\u001b[0m\u001b[0mA\u001b[0m\u001b[0;34m)\u001b[0m\u001b[0;34m.\u001b[0m\u001b[0msolve\u001b[0m\u001b[0;34m\u001b[0m\u001b[0;34m\u001b[0m\u001b[0m\n\u001b[0m\u001b[1;32m    489\u001b[0m \u001b[0;34m\u001b[0m\u001b[0m\n\u001b[1;32m    490\u001b[0m \u001b[0;34m\u001b[0m\u001b[0m\n",
      "\u001b[0;32m~/miniconda3/envs/py36/lib/python3.6/site-packages/scipy/sparse/linalg/dsolve/linsolve.py\u001b[0m in \u001b[0;36msplu\u001b[0;34m(A, permc_spec, diag_pivot_thresh, relax, panel_size, options)\u001b[0m\n\u001b[1;32m    337\u001b[0m     return _superlu.gstrf(N, A.nnz, A.data, A.indices, A.indptr,\n\u001b[1;32m    338\u001b[0m                           \u001b[0mcsc_construct_func\u001b[0m\u001b[0;34m=\u001b[0m\u001b[0mcsc_construct_func\u001b[0m\u001b[0;34m,\u001b[0m\u001b[0;34m\u001b[0m\u001b[0;34m\u001b[0m\u001b[0m\n\u001b[0;32m--> 339\u001b[0;31m                           ilu=False, options=_options)\n\u001b[0m\u001b[1;32m    340\u001b[0m \u001b[0;34m\u001b[0m\u001b[0m\n\u001b[1;32m    341\u001b[0m \u001b[0;34m\u001b[0m\u001b[0m\n",
      "\u001b[0;31mRuntimeError\u001b[0m: Factor is exactly singular"
     ]
    }
   ],
   "source": [
    "N = [10,100,1000,10000]\n",
    "options = {'format':'csc'}\n",
    "methods = ['Jac','GS']\n",
    "iterates = {'Jac': lambda A,D,U,L: sp.sparse.linalg.spsolve(-D,U+L),\n",
    "            'GS':  lambda A,D,U,L: sp.sparse.linalg.spsolve(D+L,-U)}\n",
    "for n in N:\n",
    "    A = pyamg.gallery.poisson((n,), **options)\n",
    "    D = sp.sparse.diags(A.diagonal(),**options)\n",
    "    U = sp.sparse.triu(A,1,**options)\n",
    "    L = sp.sparse.tril(A,-1,**options)\n",
    "    for method in methods:\n",
    "        B = iterates[method](A,D,U,L)\n",
    "        eigs = sp.sparse.linalg.eigs(B,k=1,return_eigenvectors=False,which='LM',maxiter=n*1000,sigma=1.0)\n",
    "        condition = sp.sparse.linalg.norm(B)*sp.sparse.linalg.norm(sp.sparse.linalg.inv(B))\n",
    "        \n",
    "        print(eigs,condition)\n",
    "        \n",
    "    \n",
    "    \n",
    "    "
   ]
  },
  {
   "cell_type": "code",
   "execution_count": null,
   "metadata": {},
   "outputs": [],
   "source": []
  },
  {
   "cell_type": "code",
   "execution_count": null,
   "metadata": {},
   "outputs": [],
   "source": []
  },
  {
   "cell_type": "code",
   "execution_count": null,
   "metadata": {},
   "outputs": [],
   "source": []
  },
  {
   "cell_type": "code",
   "execution_count": null,
   "metadata": {},
   "outputs": [],
   "source": []
  }
 ],
 "metadata": {
  "kernelspec": {
   "display_name": "Python 3",
   "language": "python",
   "name": "python3"
  },
  "language_info": {
   "codemirror_mode": {
    "name": "ipython",
    "version": 3
   },
   "file_extension": ".py",
   "mimetype": "text/x-python",
   "name": "python",
   "nbconvert_exporter": "python",
   "pygments_lexer": "ipython3",
   "version": "3.6.12"
  }
 },
 "nbformat": 4,
 "nbformat_minor": 4
}
