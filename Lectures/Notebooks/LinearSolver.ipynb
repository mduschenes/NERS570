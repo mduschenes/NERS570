{
 "cells": [
  {
   "cell_type": "markdown",
   "metadata": {},
   "source": [
    "# Lecture 06 Algorithms for Linear Algebra"
   ]
  },
  {
   "cell_type": "markdown",
   "metadata": {},
   "source": [
    "This notebook is to demonstrate the convergence properties of different iterative linear solvers! Before starting, make sure that the necessary python packages are installed. Most solvers used in this demo are from the sparse linear algebra packages supplied by scipy in python."
   ]
  },
  {
   "cell_type": "code",
   "execution_count": null,
   "metadata": {},
   "outputs": [],
   "source": [
    "# !pip3 install --user matplotlib;\n",
    "# !pip3 install --user krypy;\n",
    "# !pip3 install --user pyamg;"
   ]
  },
  {
   "cell_type": "markdown",
   "metadata": {},
   "source": [
    "Now let's start by loading the packages."
   ]
  },
  {
   "cell_type": "code",
   "execution_count": 2,
   "metadata": {},
   "outputs": [],
   "source": [
    "from matplotlib import pyplot, animation, rc\n",
    "import matplotlib as mpl\n",
    "from cycler import cycler\n",
    "\n",
    "import numpy as np\n",
    "import nelin\n",
    "import pyamg\n",
    "import time\n",
    "import matplotlib.pyplot as plt\n",
    "from pyamg.aggregation import smoothed_aggregation_solver\n",
    "mpl.style.use('classic')\n",
    "# use latex in matplotlib\n",
    "\n",
    "# get colors\n",
    "mpl.rcParams['axes.prop_cycle'] = cycler(color='bgrcmyk')## Problem Decription\n",
    "colors=mpl.rcParams['axes.prop_cycle'] .by_key()['color']\n"
   ]
  },
  {
   "cell_type": "markdown",
   "metadata": {},
   "source": [
    "## Problem Decription\n",
    "\n",
    "Two problems are used here:\n",
    "\n",
    "1. First is a poisson problem written as:\n",
    "\n",
    "$$-\\nabla^2 u=g$$\n",
    "\n",
    "For 1D case, the dicretization is:\n",
    "$$-\\frac{1}{h^2}(u_{i-1}-2u_{i}+1u_{i+1})=g$$\n",
    "\n",
    "For the 2D case, the dicretization is\n",
    "$$\n",
    "-\\frac{u_{i+1,y}+u_{i-1,j}+u_{i,j+1}+u_{i,j-1}-4u_i}{h^2}=g\n",
    "$$\n",
    "\n",
    "2. The second is a steady-state advection-diffusion problem problem written as:\n",
    "$$u_x+vu_{xx}=0$$\n",
    "\n",
    "For discretization, we introduction both a second-order finite difference approximation for the first-derivative and second-derivatives like:\n",
    "$$\\frac{du}{dx}|_{x=x_i}=\\frac{1}{2h}(-3u_i+4u_{i+1}+3u_{i+2})$$\n",
    "$$\\frac{d^2u}{dx^2}|_{x=x_i}=\\frac{1}{h^2}(u_{i-1}-2u_{i}+u_{i+1})$$\n",
    "\n",
    "\n",
    "\n",
    "All of these problems can be written as a linear system in the form as\n",
    "$$\\bf{A}\\bf{u}=\\bf{b}$$\n",
    "\n",
    "\n",
    "We will show the iterative performance for the following solvers:\n",
    "\n",
    "Basic iterative solver:\n",
    "1. Jacobi Iteration (JI)\n",
    "2. Gauss-Siedel Iteration (GS)\n",
    "\n",
    "Advanced iterative solver (Krylov Solver & Mulitigrid Solver)\n",
    "1. Conjugate Gradient (CG)\n",
    "2. Generalized Minimal Residual Method (GMRES)\n",
    "3. Biconjugate Gradient Stabilized Method (BiCGstab)\n",
    "4. Algebric Multigrid Method (AMG)\n",
    " "
   ]
  },
  {
   "cell_type": "markdown",
   "metadata": {},
   "source": [
    "## Common Iterative Smoother\n",
    "### 1D Poisson Problem"
   ]
  },
  {
   "cell_type": "markdown",
   "metadata": {},
   "source": [
    "To start with, let's start on the 1D poisson problem, thanks to the other developer, we can easily construct the linear system for 1D poisson problem by:"
   ]
  },
  {
   "cell_type": "code",
   "execution_count": 3,
   "metadata": {},
   "outputs": [
    {
     "name": "stderr",
     "output_type": "stream",
     "text": [
      "/home/matt/miniconda3/envs/py36/lib/python3.6/site-packages/pyamg/gallery/stencil.py:114: FutureWarning: Using a non-tuple sequence for multidimensional indexing is deprecated; use `arr[tuple(seq)]` instead of `arr[seq]`. In the future this will be interpreted as an array index, `arr[np.array(seq)]`, which will result either in an error or a different result.\n",
      "  diag[s] = 0\n",
      "/home/matt/miniconda3/envs/py36/lib/python3.6/site-packages/pyamg/gallery/stencil.py:110: FutureWarning: Using a non-tuple sequence for multidimensional indexing is deprecated; use `arr[tuple(seq)]` instead of `arr[seq]`. In the future this will be interpreted as an array index, `arr[np.array(seq)]`, which will result either in an error or a different result.\n",
      "  diag[s] = 0\n"
     ]
    }
   ],
   "source": [
    "n = 100\n",
    "A = pyamg.gallery.poisson((n,), format='csr')"
   ]
  },
  {
   "cell_type": "code",
   "execution_count": 4,
   "metadata": {},
   "outputs": [
    {
     "name": "stdout",
     "output_type": "stream",
     "text": [
      "  (0, 0)\t-1.0\n",
      "  (0, 1)\t2.0\n",
      "  (0, 2)\t-1.0\n"
     ]
    }
   ],
   "source": [
    "#You can examine the matrix structure here\n",
    "print(A[1,:])\n",
    "# print(A)"
   ]
  },
  {
   "cell_type": "markdown",
   "metadata": {},
   "source": [
    "The linear operator constructed is stored in compress sparse row format. To show convergence of each solver, we set final solution to be $0$, we can see $\\bf{b}$ is also zero. Then the solution of each iterative step is the also the intermediate error.\n",
    "\n",
    "For the initial guess of solution, though traditionally we alway use $b$, here we use a random solution vector. Otherwise the solvers will converge to 0 very fast. "
   ]
  },
  {
   "cell_type": "code",
   "execution_count": 5,
   "metadata": {},
   "outputs": [
    {
     "name": "stdout",
     "output_type": "stream",
     "text": [
      "100\n",
      "[ 0.00000000e+00  2.18792074e-01  4.30915072e-01  6.29935108e-01\n",
      "  8.09880339e-01  9.65451459e-01  1.09220837e+00  1.18672640e+00\n",
      "  1.24671662e+00  1.27110581e+00  1.26007351e+00  1.21504460e+00\n",
      "  1.13863780e+00  1.03457188e+00  9.07532966e-01  7.63007494e-01\n",
      "  6.07086908e-01  4.46250896e-01  2.87136908e-01  1.36304086e-01\n",
      "  1.11022302e-16 -1.16061574e-01 -2.06903936e-01 -2.68464621e-01\n",
      " -2.97740145e-01 -2.92893219e-01 -2.53318623e-01 -1.79665416e-01\n",
      " -7.38146827e-02  6.11863850e-02  2.21231742e-01  4.01301283e-01\n",
      "  5.95638038e-01  7.97951507e-01  1.00163991e+00  1.20002352e+00\n",
      "  1.38658073e+00  1.55517862e+00  1.70028973e+00  1.81718745e+00\n",
      "  1.90211303e+00  1.95240839e+00  1.96660989e+00  1.94449992e+00\n",
      "  1.88711430e+00  1.79670533e+00  1.67666181e+00  1.53138876e+00\n",
      "  1.36615128e+00  1.18688787e+00  1.00000000e+00  8.12125246e-01\n",
      "  6.29902176e-01  4.59735170e-01  3.07567595e-01  1.78671346e-01\n",
      "  7.74601983e-02  7.33360081e-03 -2.94435673e-02 -3.18210156e-02\n",
      " -1.11022302e-16  6.45740889e-02  1.59263243e-01  2.80330636e-01\n",
      "  4.23073378e-01  5.81989530e-01  7.50973446e-01  9.23532547e-01\n",
      "  1.09301781e+00  1.25285987e+00  1.39680225e+00  1.51912364e+00\n",
      "  1.61484117e+00  1.67988756e+00  1.71125588e+00  1.70710678e+00\n",
      "  1.66683436e+00  1.59108835e+00  1.48175192e+00  1.34187568e+00\n",
      "  1.17557050e+00  9.87862669e-01  7.84516682e-01  5.71831935e-01\n",
      "  3.56420441e-01  1.44973505e-01 -5.59743825e-02 -2.40276099e-01\n",
      " -4.02388690e-01 -5.37568760e-01 -6.42039522e-01 -7.13123595e-01\n",
      " -7.49336841e-01 -7.50439920e-01 -7.17445738e-01 -6.52582529e-01\n",
      " -5.59213872e-01 -4.41718482e-01 -3.05334033e-01 -1.55970556e-01]\n"
     ]
    }
   ],
   "source": [
    "x_0 = np.sin(np.arange(0,n)/100.0*np.pi*1.0) + np.sin(np.arange(0,n)/100.0*np.pi*6.0)\n",
    "\n",
    "refx = np.zeros(A.shape[0])\n",
    "b=A.dot(np.array(refx))\n",
    "nSize=A.shape[0]\n",
    "\n",
    "print(nSize)\n",
    "print(x_0)"
   ]
  },
  {
   "cell_type": "code",
   "execution_count": 8,
   "metadata": {},
   "outputs": [
    {
     "data": {
      "application/vnd.jupyter.widget-view+json": {
       "model_id": "10138257bc434da48726fa00db4e98c4",
       "version_major": 2,
       "version_minor": 0
      },
      "text/plain": [
       "interactive(children=(IntSlider(value=0, description='w', max=1000, step=50), Output()), _dom_classes=('widget…"
      ]
     },
     "metadata": {},
     "output_type": "display_data"
    },
    {
     "data": {
      "image/png": "[encoded data removed]",
      "text/plain": [
       "<Figure size 800x750 with 4 Axes>"
      ]
     },
     "metadata": {},
     "output_type": "display_data"
    }
   ],
   "source": [
    "# %matplotlib notebook\n",
    "from ipywidgets import *\n",
    "import numpy as np\n",
    "import IPython\n",
    "import scipy\n",
    "import matplotlib\n",
    "matplotlib.use('tkAgg')\n",
    "import matplotlib.pyplot as plt\n",
    "\n",
    "# from IPython.display import clear_output\n",
    "\n",
    "nSize=A.shape[0]\n",
    "\n",
    "jac_sol = nelin.solutionvector(nSize,x_0)\n",
    "x_jac=  nelin.Jac(A,b,x0=x_0, tol=1e-9,maxiter=1000,callback=jac_sol.store)\n",
    "resv_jac,resnorm_jac=jac_sol.getres(A,b)\n",
    " \n",
    "\n",
    "\n",
    "gs_sol = nelin.solutionvector(nSize,x_0)\n",
    "\n",
    "x_gs =  nelin.GS(A,b,x0=x_0, tol=1e-9,maxiter=1000,w=1,callback=gs_sol.store)\n",
    "resv_gs,resnorm_gs=gs_sol.getres(A,b)\n",
    "\n",
    "jaciter,jacsol=jac_sol.getsol()\n",
    "gsiter,gssol=jac_sol.getsol()\n",
    "\n",
    "\n",
    "\n",
    "# Create Sub plots\n",
    "fig,axs = plt.subplots(2, 2,figsize=(1600./200,1500./200), dpi=100)\n",
    "fig.subplots_adjust(wspace=0.3)\n",
    "axs[0][0].set_title('Jacobi Iteration Error Residual', fontsize=10)\n",
    "axs[1][0].set_title('Gauss-Sediel Iteration Error Residual', fontsize=10)\n",
    "axs[0][0].set_yscale('log')\n",
    "axs[1][0].set_yscale('log')\n",
    "axs[0][1].set_title('Jacobi Iteration Error', fontsize=10)\n",
    "axs[1][1].set_title('GS Iteration Error', fontsize=10)\n",
    "axs[0][1].set_yscale('log')\n",
    "axs[1][1].set_yscale('log')\n",
    "axs[0][0].set_xlim(0,jaciter)\n",
    "axs[1][0].set_xlim(0,gsiter)\n",
    "axs[0][0].set_ylim(1e-12,1)\n",
    "axs[1][0].set_ylim(1e-12,1)\n",
    "axs[0][1].set_xlim(0,nSize-1)\n",
    "axs[1][1].set_xlim(0,nSize-1)\n",
    "axs[0][1].set_ylim(1e-16,1)\n",
    "axs[1][1].set_ylim(1e-14,1)\n",
    "\n",
    "# animation function.  This is called sequentially\n",
    "jacplot,= axs[0][0].plot([], [], color=colors[0])\n",
    "gsplot,= axs[1][0].plot([], [], color=colors[1])\n",
    "jacplote,= axs[0][1].plot([], [], color=colors[0])\n",
    "gsplote,= axs[1][1].plot([], [], color=colors[1])\n",
    "\n",
    "\n",
    "def update(w=40):\n",
    "    ijac=w;\n",
    "    igs=w;\n",
    "\n",
    "    print('Start')\n",
    "    if(w>=jaciter):\n",
    "        ijac=jaciter-1\n",
    "    if(w>=gsiter):\n",
    "        igs=gsiter-1\n",
    "\n",
    "\n",
    "    jacplot.set_data(np.arange(0, ijac+1), resnorm_jac[:ijac+1])\n",
    "    gsplot.set_data(np.arange(0, igs+1), resnorm_gs[:igs+1])\n",
    "   \n",
    "    jacplote.set_data(np.arange(0, nSize), np.abs(resv_jac[ijac,:]))\n",
    "    gsplote.set_data(np.arange(0, nSize), np.abs(resv_gs[igs,:]))\n",
    "\n",
    "    fig.suptitle('Iteration {}'.format(w), fontsize=20)\n",
    "    fig.canvas.draw()\n",
    "\n",
    "interact(update,w=IntSlider(value=0,min=0,max=1000,step=50));\n",
    "#                 jacplot=fixed(jacplot),gsplot=fixed(gsplot),\n",
    "#                 jacplote=fixed(jacplote),gsplote=fixed(gsplote));\n",
    "# If you cannot use iteractive mode us uncomment the nextwo lines    \n",
    "# ani = animation.FuncAnimation(fig, update, repeat_delay=50,interval=50,repeat=False,frames=len(resnorm_gs)-1, blit=True)\n",
    "# plt.show();\n",
    "\n",
    "\n",
    "\n",
    "# interact(update);"
   ]
  },
  {
   "cell_type": "markdown",
   "metadata": {},
   "source": [
    "## Advanced Iterative Solver"
   ]
  },
  {
   "cell_type": "markdown",
   "metadata": {},
   "source": [
    "### 1D Poisson Problem"
   ]
  },
  {
   "cell_type": "code",
   "execution_count": null,
   "metadata": {},
   "outputs": [],
   "source": [
    "pyamg.gallery.poisson((2000,), format='csr')\n",
    "refx = np.random.rand(A.shape[0])\n",
    "b=A.dot(np.array(refx))\n",
    "nSize=A.shape[0]\n",
    "nelin.PrintCompare(A,x_0,b,refx,M=None)"
   ]
  },
  {
   "cell_type": "markdown",
   "metadata": {},
   "source": [
    "### What do you observe?\n",
    "1. Accuray?\n",
    "2. Speed?\n",
    "3. Iteration Number?"
   ]
  },
  {
   "cell_type": "markdown",
   "metadata": {},
   "source": [
    "Now we increase the size of the matrix."
   ]
  },
  {
   "cell_type": "code",
   "execution_count": null,
   "metadata": {},
   "outputs": [],
   "source": [
    "A1 = pyamg.gallery.poisson((2000,), format='csr')\n",
    "b1 = np.zeros(A1.shape[0])\n",
    "x_1 = np.random.randn(A1.shape[0])\n",
    "refx1 = np.ones(A1.shape[0])\n",
    "b1=A1.dot(np.array(refx1))\n",
    "nSize=A1.shape[0]\n",
    "# Case without Preconditioner\n",
    "nelin.PrintCompare(A1,x_1,b1,refx1,M=None)"
   ]
  },
  {
   "cell_type": "markdown",
   "metadata": {},
   "source": [
    "### What do you observe?\n",
    "1. Accuray?\n",
    "2. Speed?\n",
    "3. Iteration Number?\n",
    "4. Comparing with small size problem?"
   ]
  },
  {
   "cell_type": "markdown",
   "metadata": {},
   "source": [
    "Now we see what happened if we use some preconditioner matrix."
   ]
  },
  {
   "cell_type": "code",
   "execution_count": null,
   "metadata": {},
   "outputs": [],
   "source": [
    "print('For Small Size Problem:')\n",
    "ml = smoothed_aggregation_solver(A)  \n",
    "M = ml.aspreconditioner(cycle='V') \n",
    "nelin.PrintCompare(A,x_0,b,refx,M)\n",
    "\n",
    "\n",
    "print('For Large Size Problem:')\n",
    "ml1 = smoothed_aggregation_solver(A1)  \n",
    "M1 = ml1.aspreconditioner(cycle='V') \n",
    "nelin.PrintCompare(A1,x_1,b1,refx1,M1)"
   ]
  },
  {
   "cell_type": "markdown",
   "metadata": {},
   "source": [
    "### What do you observe?\n",
    "1. Accuray?\n",
    "2. Speed?\n",
    "3. Iteration Number?\n",
    "4. Compare with the unpreconditioned case?"
   ]
  },
  {
   "cell_type": "markdown",
   "metadata": {},
   "source": [
    "### 2D Poisson Problem\n",
    "Now let's look at 2D poisson problem."
   ]
  },
  {
   "cell_type": "code",
   "execution_count": null,
   "metadata": {},
   "outputs": [],
   "source": [
    "B = pyamg.gallery.poisson((100,100), format='csr')\n",
    "b = np.zeros(B.shape[0])\n",
    "x_0 = np.random.randn(B.shape[0])\n",
    "refx = np.ones(B.shape[0])\n",
    "b=B.dot(np.array(refx))\n",
    "nSize=B.shape[0]"
   ]
  },
  {
   "cell_type": "markdown",
   "metadata": {},
   "source": [
    "* Unpreconditioned Case"
   ]
  },
  {
   "cell_type": "code",
   "execution_count": null,
   "metadata": {
    "scrolled": true
   },
   "outputs": [],
   "source": [
    "nelin.PrintCompare(B,x_0,b,refx,M=None)"
   ]
  },
  {
   "cell_type": "markdown",
   "metadata": {},
   "source": [
    "* Preconditioned Case"
   ]
  },
  {
   "cell_type": "code",
   "execution_count": null,
   "metadata": {},
   "outputs": [],
   "source": [
    "ml = smoothed_aggregation_solver(B)  \n",
    "M = ml.aspreconditioner(cycle='V') \n",
    "nelin.PrintCompare(B,x_0,b,refx,M)"
   ]
  },
  {
   "cell_type": "markdown",
   "metadata": {},
   "source": [
    "### 1D Advection-diffusion problem\n",
    "Now let's look at 2D poisson problem."
   ]
  },
  {
   "cell_type": "code",
   "execution_count": null,
   "metadata": {},
   "outputs": [],
   "source": [
    "# This is a advection-convection problem\n",
    "v=-0.02;\n",
    "N=1000;\n",
    "grid=N\n",
    "h=1.0/N;\n",
    "s_ad=1/2.0/h*np.array([0,-3,4,-1]);\n",
    "s_diff=v/(h**2.0)*np.array([1,-2,1,0]);\n",
    "grid=N;\n",
    "A=nelin.stencil_grid_1d(s_ad+s_diff,grid,np.array([-1,0,1,2]),format='csr');\n",
    "refx = np.ones(A.shape[0])\n",
    "b=A.dot(np.array(refx))\n",
    "\n",
    "x_0 = b;"
   ]
  },
  {
   "cell_type": "code",
   "execution_count": null,
   "metadata": {},
   "outputs": [],
   "source": [
    "nelin.PrintCompare(A,x_0,b,refx,M=None)"
   ]
  },
  {
   "cell_type": "markdown",
   "metadata": {},
   "source": [
    "### What do you observe?\n",
    "1. Accuray?\n",
    "2. Speed?\n",
    "3. Iteration Number?\n",
    "4. Why CG failed?\n",
    "5. Why AMG error becomes significantly larger"
   ]
  },
  {
   "cell_type": "markdown",
   "metadata": {},
   "source": [
    "## Error Plot"
   ]
  },
  {
   "cell_type": "code",
   "execution_count": null,
   "metadata": {},
   "outputs": [],
   "source": [
    "%matplotlib notebook\n",
    "from ipywidgets import *\n",
    "import numpy as np\n",
    "import IPython\n",
    "import matplotlib.pyplot as plt\n",
    "import scipy\n",
    "from IPython.display import clear_output\n",
    "A = pyamg.gallery.poisson((100,), format='csr')\n",
    "b = np.zeros(A.shape[0])\n",
    "x_0 = np.sin(np.arange(0,100)/100*np.pi)*2\n",
    "refx = np.ones(A.shape[0])\n",
    "b=A.dot(np.array(refx))\n",
    "nSize=A.shape[0]\n",
    "\n",
    "cg_sol = nelin.solutionvector(nSize,x_0)\n",
    "x_cg,info =  scipy.sparse.linalg.cg(A,b,x0=x_0, tol=1e-10,M=None,callback=cg_sol.store)\n",
    "resv_cg,resnorm_cg=cg_sol.getres(A,b)\n",
    " \n",
    "\n",
    "\n",
    "bicg_sol = nelin.solutionvector(nSize,x_0)\n",
    "\n",
    "x_bicg,info =  scipy.sparse.linalg.bicgstab(A,b,x0=x_0, tol=1e-10,M=None,callback=bicg_sol.store)\n",
    "resv_bicg,resnorm_bicg=bicg_sol.getres(A,b)\n",
    "\n",
    "ml = smoothed_aggregation_solver(A) \n",
    "M = ml.aspreconditioner(cycle='V') \n",
    "amg_sol= nelin.solutionvector(nSize,x_0)    \n",
    "x_amg=ml.solve(b=b,x0=x_0,tol=1e-10,callback=amg_sol.store,accel='cg')\n",
    "resv_amg,resnorm_amg=amg_sol.getres(A,b)\n",
    "\n",
    "\n",
    "\n",
    "cgiter,cgsol=cg_sol.getsol()\n",
    "bicgiter,bicgsol=bicg_sol.getsol()\n",
    "amgiter,amgsol=amg_sol.getsol()\n",
    "\n",
    "\n",
    "\n",
    "\n",
    "fig,axs = plt.subplots(3, 2,figsize=(1600./200,1500./200), dpi=100)\n",
    "fig.subplots_adjust(wspace=0.3)\n",
    "axs[0][0].set_title('CG Iteration Error Residual', fontsize=10)\n",
    "axs[1][0].set_title('BiCG Iteration Error Residual', fontsize=10)\n",
    "axs[2][0].set_title('AMG Iteration Error Residual', fontsize=10)\n",
    "axs[0][0].set_yscale('log')\n",
    "axs[1][0].set_yscale('log')\n",
    "axs[2][0].set_yscale('log')\n",
    "axs[0][1].set_title('CG Iteration Error', fontsize=10)\n",
    "axs[1][1].set_title('BiCG Iteration Error', fontsize=10)\n",
    "axs[2][1].set_title('AMG Iteration Error', fontsize=10)\n",
    "axs[0][1].set_yscale('log')\n",
    "axs[1][1].set_yscale('log')\n",
    "axs[2][1].set_yscale('log')\n",
    "\n",
    "axs[0][0].set_xlim(0,cgiter)\n",
    "axs[1][0].set_xlim(0,bicgiter)\n",
    "axs[2][0].set_xlim(0,amgiter)\n",
    "axs[0][0].set_ylim(1e-12,1)\n",
    "axs[1][0].set_ylim(1e-12,1)\n",
    "axs[2][0].set_ylim(1e-12,1)\n",
    "axs[0][1].set_xlim(0,nSize)\n",
    "axs[1][1].set_xlim(0,nSize)\n",
    "axs[2][1].set_xlim(0,nSize)\n",
    "axs[0][1].set_ylim(1e-16,1)\n",
    "axs[1][1].set_ylim(1e-14,1)\n",
    "axs[2][1].set_ylim(1e-14,1)\n",
    "# animation function.  This is called sequentially\n",
    "\n",
    "cgplot,= axs[0][0].plot([], [], color=colors[0])\n",
    "bicgplot,= axs[1][0].plot([], [], color=colors[1])\n",
    "amgplot,= axs[2][0].plot([], [], color=colors[2])\n",
    "\n",
    "cgplote,= axs[0][1].plot([], [], color=colors[0])\n",
    "bicgplote,= axs[1][1].plot([], [], color=colors[1])\n",
    "amgplote,= axs[2][1].plot([], [], color=colors[2])\n",
    "\n",
    "def update(w=40):\n",
    "    icg=w;\n",
    "    ibicg=w;\n",
    "    iamg=w;\n",
    "    print('Start')\n",
    "    if(w>=cgiter):\n",
    "        icg=cgiter-1\n",
    "    if(w>=bicgiter):\n",
    "        ibicg=bicgiter-1\n",
    "    if(w>=amgiter):\n",
    "        iamg=amgiter-1\n",
    "\n",
    "    cgplot.set_data(np.arange(0, icg+1), resnorm_cg[:icg+1])\n",
    "    bicgplot.set_data(np.arange(0, ibicg+1), resnorm_bicg[:ibicg+1])\n",
    "    amgplot.set_data(np.arange(0, iamg+1), resnorm_amg[:iamg+1])    \n",
    "    cgplote.set_data(np.arange(0, nSize), np.abs(resv_cg[icg,:]))\n",
    "    bicgplote.set_data(np.arange(0, nSize), np.abs(resv_bicg[ibicg,:]))\n",
    "    amgplote.set_data(np.arange(0, nSize), np.abs(resv_amg[iamg,:]))\n",
    "    fig.suptitle('Iteration {}'.format(w), fontsize=20)\n",
    "    fig.canvas.draw_idle()\n",
    "\n",
    "interact(update,w=IntSlider(value=0,min=0,max=100,step=1));\n",
    "# If you cannot use iteractive mode us uncomment the nextwo lines    \n",
    "# ani = animation.FuncAnimation(fig, update, repeat_delay=50,interval=50,repeat=False,frames=len(resnorm_bicg)-1, blit=True)\n",
    "# plt.show()\n",
    "\n",
    "\n",
    "\n",
    "# interact(update)"
   ]
  },
  {
   "cell_type": "markdown",
   "metadata": {},
   "source": [
    "## GMRES: Convergence vs Ritz Value"
   ]
  },
  {
   "cell_type": "code",
   "execution_count": null,
   "metadata": {},
   "outputs": [],
   "source": [
    "# This is a advection-convection problem\n",
    "v=-0.02;\n",
    "N=100;\n",
    "n=N\n",
    "grid=N\n",
    "h=1.0/N;\n",
    "s_ad=1/2.0/h*np.array([0,-3,4,-1]);\n",
    "s_diff=v/(h**2.0)*np.array([1,-2,1,0]);\n",
    "grid=N;\n",
    "A=nelin.stencil_grid_1d(s_ad+s_diff,grid,np.array([-1,0,1,2]),format='csr');\n",
    "refx = np.ones(A.shape[0])\n",
    "b=A.dot(np.array(refx))\n",
    "\n",
    "b = refx+np.random.rand(A.shape[0])*0.01;"
   ]
  },
  {
   "cell_type": "code",
   "execution_count": null,
   "metadata": {},
   "outputs": [],
   "source": [
    "# Calculation the eigenvalue\n",
    "evals = np.linalg.eigvals(np.array(A.todense()))"
   ]
  },
  {
   "cell_type": "code",
   "execution_count": null,
   "metadata": {},
   "outputs": [],
   "source": [
    "# pyplot.figure()\n",
    "# pyplot.plot(evals.real, evals.imag, 'x', color=colors[1], alpha=0.5)\n",
    "# pyplot.xscale('log')\n",
    "# pyplot.xscale('log')\n",
    "# pyplot.title('roots of GMRES polynomial')\n",
    "# pyplot.xlabel('Real part')\n",
    "# pyplot.ylabel('Imaginary part')\n"
   ]
  },
  {
   "cell_type": "code",
   "execution_count": null,
   "metadata": {},
   "outputs": [],
   "source": [
    "import krypy\n",
    "import numpy as np\n",
    "b=b;\n",
    "ls = krypy.linsys.LinearSystem(A, b, Ml=None)\n",
    "solver = krypy.linsys.Gmres(ls, tol=1e-9, store_arnoldi=True)\n",
    "\n",
    "H = solver.H\n",
    "\n",
    "def get_gmres_roots(H):\n",
    "    n_, n = H.shape\n",
    "\n",
    "    from scipy.linalg import eig\n",
    "    theta, _ = eig(H[:n, :])\n",
    "    return theta"
   ]
  },
  {
   "cell_type": "code",
   "execution_count": null,
   "metadata": {},
   "outputs": [],
   "source": [
    "%matplotlib notebook\n",
    "nSize=A.shape[0]\n",
    "fig, axs = pyplot.subplots(ncols=2, figsize=(1920./200,1080./200), dpi=100)\n",
    "fig.subplots_adjust(wspace=0.3)\n",
    "line_res, = axs[0].plot([], [])\n",
    "line_roots, = axs[1].plot([], [], '.', color=colors[0])\n",
    "all_roots = np.concatenate(\n",
    "    [evals] + [get_gmres_roots(H[:i+1, :i]) for i in range(1, n+1)]\n",
    "    )\n",
    "axs[0].set_yscale('log')\n",
    "axs[0].set_xlim(0, n)\n",
    "axs[0].set_ylim(np.min(solver.resnorms), np.max(solver.resnorms))\n",
    "axs[0].set_title('GMRES residual norm')\n",
    "axs[0].set_xlabel('GMRES iteration')\n",
    "axs[0].set_ylabel(r'$\\frac{\\|r_i\\|}{\\|b\\|}$')\n",
    "axs[1].plot(evals.real, evals.imag, 'x', color=colors[1], alpha=0.5)\n",
    "axs[1].set_xlim(0.95*np.min(all_roots.real), 1.05*np.max(all_roots.real))\n",
    "axs[1].set_ylim(1.05*np.min(all_roots.imag), 1.05*np.max(all_roots.imag))\n",
    "axs[0].set_yscale('log')\n",
    "axs[0].set_xlim(0, n)\n",
    "axs[1].set_xscale('log')\n",
    "def update(w):\n",
    "    if w <-1:\n",
    "        w=1\n",
    "    if w > nSize:\n",
    "        w=nSize\n",
    "    line_res.set_data(list(range(0, w+1)), solver.resnorms[:w+1])\n",
    "    print(w)\n",
    "    roots = get_gmres_roots(H[:w+1, :w])\n",
    "    line_roots.set_data(roots.real, roots.imag)\n",
    "    fig.canvas.draw_idle()\n",
    "\n",
    "\n",
    "# interact(update,w=IntSlider(value=0,min=1,max=100,step=1));\n",
    "interact(update,w=IntSlider(value=1,min=1,max=100,step=1));\n",
    "# If you cannot use iteractive mode us uncomment the nextwo lines    \n",
    "# ani = animation.FuncAnimation(fig, update,np.arange(1,101),repeat=False,interval=50)\n",
    "# plt.show()"
   ]
  },
  {
   "cell_type": "code",
   "execution_count": null,
   "metadata": {},
   "outputs": [],
   "source": []
  },
  {
   "cell_type": "code",
   "execution_count": null,
   "metadata": {},
   "outputs": [],
   "source": []
  },
  {
   "cell_type": "code",
   "execution_count": null,
   "metadata": {},
   "outputs": [],
   "source": []
  },
  {
   "cell_type": "code",
   "execution_count": null,
   "metadata": {},
   "outputs": [],
   "source": []
  },
  {
   "cell_type": "code",
   "execution_count": null,
   "metadata": {},
   "outputs": [],
   "source": []
  },
  {
   "cell_type": "code",
   "execution_count": null,
   "metadata": {},
   "outputs": [],
   "source": []
  },
  {
   "cell_type": "code",
   "execution_count": null,
   "metadata": {},
   "outputs": [],
   "source": []
  },
  {
   "cell_type": "code",
   "execution_count": null,
   "metadata": {},
   "outputs": [],
   "source": [
    "import os,sys,glob\n",
    "import numpy as np\n",
    "import scipy as sp\n",
    "import matplotlib\n",
    "import matplotlib.pyplot as plt\n",
    "import pandas as pd"
   ]
  },
  {
   "cell_type": "code",
   "execution_count": null,
   "metadata": {},
   "outputs": [],
   "source": [
    "n = 4\n",
    "m = 3\n",
    "p = 2\n",
    "INTS=[0,10]\n",
    "\n",
    "inputs = ['x%d'%i for i in range(m)]\n",
    "outputs = ['y%d'%i for i in range(p)]\n",
    "\n",
    "X = np.random.randint(*INTS,(n,m))\n",
    "y = np.random.randint(*INTS,(n,p))\n",
    "data = np.concatenate([X,y],axis=1)\n",
    "columns = inputs+outputs\n",
    "\n",
    "df = pd.DataFrame(data=data,columns=columns)"
   ]
  },
  {
   "cell_type": "code",
   "execution_count": null,
   "metadata": {},
   "outputs": [],
   "source": [
    "round()"
   ]
  },
  {
   "cell_type": "code",
   "execution_count": null,
   "metadata": {},
   "outputs": [],
   "source": [
    "cwd=''\n",
    "directory=''\n",
    "file='test.csv'\n",
    "path=os.path.join(cwd,directory,file)\n",
    "globdir = glob.glob(directory)\n",
    "print(path,globdir)"
   ]
  },
  {
   "cell_type": "code",
   "execution_count": null,
   "metadata": {
    "scrolled": true
   },
   "outputs": [],
   "source": [
    "print(df)"
   ]
  },
  {
   "cell_type": "code",
   "execution_count": null,
   "metadata": {},
   "outputs": [],
   "source": [
    "a = {1:[1,2,3]}\n",
    "b = {**{1:99},**a}\n",
    "print(b)"
   ]
  }
 ],
 "metadata": {
  "kernelspec": {
   "display_name": "Python 3",
   "language": "python",
   "name": "python3"
  },
  "language_info": {
   "codemirror_mode": {
    "name": "ipython",
    "version": 3
   },
   "file_extension": ".py",
   "mimetype": "text/x-python",
   "name": "python",
   "nbconvert_exporter": "python",
   "pygments_lexer": "ipython3",
   "version": "3.6.12"
  }
 },
 "nbformat": 4,
 "nbformat_minor": 4
}
