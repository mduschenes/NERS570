{
 "cells": [
  {
   "cell_type": "markdown",
   "metadata": {},
   "source": [
    "# Lecture 06 Algorithms for Linear Algebra"
   ]
  },
  {
   "cell_type": "markdown",
   "metadata": {},
   "source": [
    "This notebook is to demonstrate the convergence properties of different iterative linear solvers! Before starting, make sure that the necessary python packages are installed. Most solvers used in this demo are from the sparse linear algebra packages supplied by scipy in python."
   ]
  },
  {
   "cell_type": "code",
   "execution_count": 1,
   "metadata": {},
   "outputs": [
    {
     "name": "stdout",
     "output_type": "stream",
     "text": [
      "Collecting matplotlib\n",
      "  Downloading https://files.pythonhosted.org/packages/cd/d6/8c4dfb23151d5a494c66ebbfdb5c8c433b44ec07fae52da5939fcda0943f/matplotlib-3.3.2-cp36-cp36m-manylinux1_x86_64.whl (11.6MB)\n",
      "\u001b[K    100% |████████████████████████████████| 11.6MB 110kB/s eta 0:00:01   84% |███████████████████████████     | 9.8MB 15.4MB/s eta 0:00:01\n",
      "\u001b[?25hRequirement already satisfied: python-dateutil>=2.1 in /home/mduschen/.local/lib/python3.6/site-packages (from matplotlib)\n",
      "Collecting numpy>=1.15 (from matplotlib)\n",
      "  Downloading https://files.pythonhosted.org/packages/b8/e5/a64ef44a85397ba3c377f6be9c02f3cb3e18023f8c89850dd319e7945521/numpy-1.19.2-cp36-cp36m-manylinux1_x86_64.whl (13.4MB)\n",
      "\u001b[K    100% |████████████████████████████████| 13.4MB 94kB/s  eta 0:00:01\n",
      "\u001b[?25hCollecting certifi>=2020.06.20 (from matplotlib)\n",
      "  Downloading https://files.pythonhosted.org/packages/5e/c4/6c4fe722df5343c33226f0b4e0bb042e4dc13483228b4718baf286f86d87/certifi-2020.6.20-py2.py3-none-any.whl (156kB)\n",
      "\u001b[K    100% |████████████████████████████████| 163kB 3.9MB/s eta 0:00:01\n",
      "\u001b[?25hRequirement already satisfied: pyparsing!=2.0.4,!=2.1.2,!=2.1.6,>=2.0.3 in /home/mduschen/.local/lib/python3.6/site-packages (from matplotlib)\n",
      "Collecting kiwisolver>=1.0.1 (from matplotlib)\n",
      "  Downloading https://files.pythonhosted.org/packages/ae/23/147de658aabbf968324551ea22c0c13a00284c4ef49a77002e91f79657b7/kiwisolver-1.2.0-cp36-cp36m-manylinux1_x86_64.whl (88kB)\n",
      "\u001b[K    100% |████████████████████████████████| 92kB 4.4MB/s eta 0:00:01\n",
      "\u001b[?25hCollecting cycler>=0.10 (from matplotlib)\n",
      "  Downloading https://files.pythonhosted.org/packages/f7/d2/e07d3ebb2bd7af696440ce7e754c59dd546ffe1bbe732c8ab68b9c834e61/cycler-0.10.0-py2.py3-none-any.whl\n",
      "Collecting pillow>=6.2.0 (from matplotlib)\n",
      "  Downloading https://files.pythonhosted.org/packages/30/bf/92385b4262178ca22b34f82e0e09c2922eb351fe39f3cc7b8ba9ea555b41/Pillow-7.2.0-cp36-cp36m-manylinux1_x86_64.whl (2.2MB)\n",
      "\u001b[K    100% |████████████████████████████████| 2.2MB 563kB/s eta 0:00:01\n",
      "\u001b[?25hRequirement already satisfied: six>=1.5 in /home/mduschen/.local/lib/python3.6/site-packages (from python-dateutil>=2.1->matplotlib)\n",
      "Installing collected packages: numpy, certifi, kiwisolver, cycler, pillow, matplotlib\n",
      "Successfully installed certifi-2020.6.20 cycler-0.10.0 kiwisolver-1.2.0 matplotlib-3.3.2 numpy-1.19.2 pillow-7.2.0\n",
      "Collecting krypy\n",
      "  Downloading https://files.pythonhosted.org/packages/db/94/e99d97e309ea1ca94d9271529f2ba5366c7c7aa935f3c016599df101ca52/krypy-2.2.0-py3-none-any.whl (49kB)\n",
      "\u001b[K    100% |████████████████████████████████| 51kB 1.8MB/s ta 0:00:011\n",
      "\u001b[?25hRequirement already satisfied: numpy>=1.11 in /home/mduschen/.local/lib/python3.6/site-packages (from krypy)\n",
      "Collecting scipy>=0.17 (from krypy)\n",
      "  Downloading https://files.pythonhosted.org/packages/2b/a8/f4c66eb529bb252d50e83dbf2909c6502e2f857550f22571ed8556f62d95/scipy-1.5.2-cp36-cp36m-manylinux1_x86_64.whl (25.9MB)\n",
      "\u001b[K    100% |████████████████████████████████| 25.9MB 48kB/s  eta 0:00:01    68% |█████████████████████▊          | 17.6MB 45.6MB/s eta 0:00:01\n",
      "\u001b[?25hInstalling collected packages: scipy, krypy\n",
      "Successfully installed krypy-2.2.0 scipy-1.5.2\n",
      "Collecting pyamg\n",
      "  Downloading https://files.pythonhosted.org/packages/bc/1e/979fa78eeccfb5e4c9349dee6f836371982054af339df338d11cf767b3fc/pyamg-4.0.0-cp36-cp36m-manylinux1_x86_64.whl (6.4MB)\n",
      "\u001b[K    100% |████████████████████████████████| 6.4MB 196kB/s eta 0:00:01\n",
      "\u001b[?25hRequirement already satisfied: numpy>=1.7.0 in /home/mduschen/.local/lib/python3.6/site-packages (from pyamg)\n",
      "Collecting pytest>=2 (from pyamg)\n",
      "  Downloading https://files.pythonhosted.org/packages/45/2c/7e29215cb19745ad67b6476b73fd1299872563f28329ea01d9d887713aaf/pytest-6.0.2-py3-none-any.whl (270kB)\n",
      "\u001b[K    100% |████████████████████████████████| 276kB 3.1MB/s eta 0:00:01\n",
      "\u001b[?25hRequirement already satisfied: scipy>=0.12.0 in /home/mduschen/.local/lib/python3.6/site-packages (from pyamg)\n",
      "Collecting pybind11>=2.2 (from pyamg)\n",
      "  Downloading https://files.pythonhosted.org/packages/89/e3/d576f6f02bc75bacbc3d42494e8f1d063c95617d86648dba243c2cb3963e/pybind11-2.5.0-py2.py3-none-any.whl (296kB)\n",
      "\u001b[K    100% |████████████████████████████████| 296kB 2.4MB/s eta 0:00:01\n",
      "\u001b[?25hRequirement already satisfied: attrs>=17.4.0 in /home/mduschen/.local/lib/python3.6/site-packages (from pytest>=2->pyamg)\n",
      "Collecting iniconfig (from pytest>=2->pyamg)\n",
      "  Downloading https://files.pythonhosted.org/packages/20/46/d2f4919cc48c39c2cb48b589ca9016aae6bad050b8023667eb86950d3da2/iniconfig-1.0.1-py3-none-any.whl\n",
      "Collecting pluggy<1.0,>=0.12 (from pytest>=2->pyamg)\n",
      "  Downloading https://files.pythonhosted.org/packages/a0/28/85c7aa31b80d150b772fbe4a229487bc6644da9ccb7e427dd8cc60cb8a62/pluggy-0.13.1-py2.py3-none-any.whl\n",
      "Collecting py>=1.8.2 (from pytest>=2->pyamg)\n",
      "  Downloading https://files.pythonhosted.org/packages/68/0f/41a43535b52a81e4f29e420a151032d26f08b62206840c48d14b70e53376/py-1.9.0-py2.py3-none-any.whl (99kB)\n",
      "\u001b[K    100% |████████████████████████████████| 102kB 5.1MB/s ta 0:00:01\n",
      "\u001b[?25hCollecting more-itertools>=4.0.0 (from pytest>=2->pyamg)\n",
      "  Downloading https://files.pythonhosted.org/packages/ec/f7/9c33f38577d9fb9b1aa60c0fd9961d09574f5d47d2b830e5183e6adfc8cc/more_itertools-8.5.0-py3-none-any.whl (44kB)\n",
      "\u001b[K    100% |████████████████████████████████| 51kB 3.2MB/s eta 0:00:01\n",
      "\u001b[?25hCollecting toml (from pytest>=2->pyamg)\n",
      "  Downloading https://files.pythonhosted.org/packages/9f/e1/1b40b80f2e1663a6b9f497123c11d7d988c0919abbf3c3f2688e448c5363/toml-0.10.1-py2.py3-none-any.whl\n",
      "Requirement already satisfied: importlib-metadata>=0.12; python_version < \"3.8\" in /home/mduschen/.local/lib/python3.6/site-packages (from pytest>=2->pyamg)\n",
      "Requirement already satisfied: packaging in /home/mduschen/.local/lib/python3.6/site-packages (from pytest>=2->pyamg)\n",
      "Requirement already satisfied: zipp>=0.5 in /home/mduschen/.local/lib/python3.6/site-packages (from importlib-metadata>=0.12; python_version < \"3.8\"->pytest>=2->pyamg)\n",
      "Requirement already satisfied: pyparsing>=2.0.2 in /home/mduschen/.local/lib/python3.6/site-packages (from packaging->pytest>=2->pyamg)\n",
      "Requirement already satisfied: six in /home/mduschen/.local/lib/python3.6/site-packages (from packaging->pytest>=2->pyamg)\n",
      "Installing collected packages: iniconfig, pluggy, py, more-itertools, toml, pytest, pybind11, pyamg\n",
      "Successfully installed iniconfig-1.0.1 more-itertools-8.5.0 pluggy-0.13.1 py-1.9.0 pyamg-4.0.0 pybind11-2.5.0 pytest-6.0.2 toml-0.10.1\n"
     ]
    }
   ],
   "source": [
    "!pip3 install --user matplotlib;\n",
    "!pip3 install --user krypy;\n",
    "!pip3 install --user pyamg;"
   ]
  },
  {
   "cell_type": "markdown",
   "metadata": {},
   "source": [
    "Now let's start by loading the packages."
   ]
  },
  {
   "cell_type": "code",
   "execution_count": 1,
   "metadata": {},
   "outputs": [],
   "source": [
    "from matplotlib import pyplot, animation, rc\n",
    "import matplotlib as mpl\n",
    "from cycler import cycler\n",
    "\n",
    "import numpy as np\n",
    "import nelin\n",
    "import pyamg\n",
    "import time\n",
    "import matplotlib.pyplot as plt\n",
    "from pyamg.aggregation import smoothed_aggregation_solver\n",
    "mpl.style.use('classic')\n",
    "# use latex in matplotlib\n",
    "\n",
    "# get colors\n",
    "mpl.rcParams['axes.prop_cycle'] = cycler(color='bgrcmyk')## Problem Decription\n",
    "colors=mpl.rcParams['axes.prop_cycle'] .by_key()['color']\n"
   ]
  },
  {
   "cell_type": "markdown",
   "metadata": {},
   "source": [
    "## Problem Decription\n",
    "\n",
    "Two problems are used here:\n",
    "\n",
    "1. First is a poisson problem written as:\n",
    "\n",
    "$$-\\nabla^2 u=g$$\n",
    "\n",
    "For 1D case, the dicretization is:\n",
    "$$-\\frac{1}{h^2}(u_{i-1}-2u_{i}+1u_{i+1})=g$$\n",
    "\n",
    "For the 2D case, the dicretization is\n",
    "$$\n",
    "-\\frac{u_{i+1,y}+u_{i-1,j}+u_{i,j+1}+u_{i,j-1}-4u_i}{h^2}=g\n",
    "$$\n",
    "\n",
    "2. The second is a steady-state advection-diffusion problem problem written as:\n",
    "$$u_x+vu_{xx}=0$$\n",
    "\n",
    "For discretization, we introduction both a second-order finite difference approximation for the first-derivative and second-derivatives like:\n",
    "$$\\frac{du}{dx}|_{x=x_i}=\\frac{1}{2h}(-3u_i+4u_{i+1}+3u_{i+2})$$\n",
    "$$\\frac{d^2u}{dx^2}|_{x=x_i}=\\frac{1}{h^2}(u_{i-1}-2u_{i}+u_{i+1})$$\n",
    "\n",
    "\n",
    "\n",
    "All of these problems can be written as a linear system in the form as\n",
    "$$\\bf{A}\\bf{u}=\\bf{b}$$\n",
    "\n",
    "\n",
    "We will show the iterative performance for the following solvers:\n",
    "\n",
    "Basic iterative solver:\n",
    "1. Jacobi Iteration (JI)\n",
    "2. Gauss-Siedel Iteration (GS)\n",
    "\n",
    "Advanced iterative solver (Krylov Solver & Mulitigrid Solver)\n",
    "1. Conjugate Gradient (CG)\n",
    "2. Generalized Minimal Residual Method (GMRES)\n",
    "3. Biconjugate Gradient Stabilized Method (BiCGstab)\n",
    "4. Algebric Multigrid Method (AMG)\n",
    " "
   ]
  },
  {
   "cell_type": "markdown",
   "metadata": {},
   "source": [
    "## Common Iterative Smoother\n",
    "### 1D Poisson Problem"
   ]
  },
  {
   "cell_type": "markdown",
   "metadata": {},
   "source": [
    "To start with, let's start on the 1D poisson problem, thanks to the other developer, we can easily construct the linear system for 1D poisson problem by:"
   ]
  },
  {
   "cell_type": "code",
   "execution_count": 2,
   "metadata": {},
   "outputs": [],
   "source": [
    "A = pyamg.gallery.poisson((100,), format='csr')"
   ]
  },
  {
   "cell_type": "code",
   "execution_count": 3,
   "metadata": {},
   "outputs": [],
   "source": [
    "#You can examine the matrix structure here\n",
    "# print(A[0,0])\n",
    "# print(A)"
   ]
  },
  {
   "cell_type": "markdown",
   "metadata": {},
   "source": [
    "The linear operator constructed is stored in compress sparse row format. To show convergence of each solver, we set final solution to be $0$, we can see $\\bf{b}$ is also zero. Then the solution of each iterative step is the also the intermediate error.\n",
    "\n",
    "For the initial guess of solution, though traditionally we alway use $b$, here we use a random solution vector. Otherwise the solvers will converge to 0 very fast. "
   ]
  },
  {
   "cell_type": "code",
   "execution_count": 4,
   "metadata": {},
   "outputs": [],
   "source": [
    "x_0 = np.sin(np.arange(0,100)/100*np.pi*1) + np.sin(np.arange(0,100)/100*np.pi*6)\n",
    "refx = np.zeros(A.shape[0])\n",
    "b=A.dot(np.array(refx))\n",
    "nSize=A.shape[0]"
   ]
  },
  {
   "cell_type": "code",
   "execution_count": 7,
   "metadata": {},
   "outputs": [
    {
     "name": "stdout",
     "output_type": "stream",
     "text": [
      "Start\n"
     ]
    }
   ],
   "source": [
    "%matplotlib notebook\n",
    "from ipywidgets import *\n",
    "import numpy as np\n",
    "import IPython\n",
    "import matplotlib.pyplot as plt\n",
    "import scipy\n",
    "from IPython.display import clear_output\n",
    "\n",
    "nSize=A.shape[0]\n",
    "\n",
    "jac_sol = nelin.solutionvector(nSize,x_0)\n",
    "x_jac=  nelin.Jac(A,b,x0=x_0, tol=1e-9,maxiter=1000,callback=jac_sol.store)\n",
    "resv_jac,resnorm_jac=jac_sol.getres(A,b)\n",
    " \n",
    "\n",
    "\n",
    "gs_sol = nelin.solutionvector(nSize,x_0)\n",
    "\n",
    "x_gs =  nelin.GS(A,b,x0=x_0, tol=1e-9,maxiter=1000,w=1,callback=gs_sol.store)\n",
    "resv_gs,resnorm_gs=gs_sol.getres(A,b)\n",
    "\n",
    "jaciter,jacsol=jac_sol.getsol()\n",
    "gsiter,gssol=jac_sol.getsol()\n",
    "\n",
    "\n",
    "\n",
    "# Create Sub plots\n",
    "fig,axs = plt.subplots(2, 2,figsize=(1600./200,1500./200), dpi=100)\n",
    "fig.subplots_adjust(wspace=0.3)\n",
    "axs[0][0].set_title('Jacobi Iteration Error Residual', fontsize=10)\n",
    "axs[1][0].set_title('Gauss-Sediel Iteration Error Residual', fontsize=10)\n",
    "axs[0][0].set_yscale('log')\n",
    "axs[1][0].set_yscale('log')\n",
    "axs[0][1].set_title('Jacobi Iteration Error', fontsize=10)\n",
    "axs[1][1].set_title('GS Iteration Error', fontsize=10)\n",
    "axs[0][1].set_yscale('log')\n",
    "axs[1][1].set_yscale('log')\n",
    "axs[0][0].set_xlim(0,jaciter)\n",
    "axs[1][0].set_xlim(0,gsiter)\n",
    "axs[0][0].set_ylim(1e-12,1)\n",
    "axs[1][0].set_ylim(1e-12,1)\n",
    "axs[0][1].set_xlim(0,nSize-1)\n",
    "axs[1][1].set_xlim(0,nSize-1)\n",
    "axs[0][1].set_ylim(1e-16,1)\n",
    "axs[1][1].set_ylim(1e-14,1)\n",
    "\n",
    "# animation function.  This is called sequentially\n",
    "jacplot,= axs[0][0].plot([], [], color=colors[0])\n",
    "gsplot,= axs[1][0].plot([], [], color=colors[1])\n",
    "jacplote,= axs[0][1].plot([], [], color=colors[0])\n",
    "gsplote,= axs[1][1].plot([], [], color=colors[1])\n",
    "\n",
    "\n",
    "def update(w=40):\n",
    "    ijac=w;\n",
    "    igs=w;\n",
    "\n",
    "    print('Start')\n",
    "    if(w>=jaciter):\n",
    "        ijac=jaciter-1\n",
    "    if(w>=gsiter):\n",
    "        igs=gsiter-1\n",
    "\n",
    "\n",
    "    jacplot.set_data(np.arange(0, ijac+1), resnorm_jac[:ijac+1])\n",
    "    gsplot.set_data(np.arange(0, igs+1), resnorm_gs[:igs+1])\n",
    "   \n",
    "    jacplote.set_data(np.arange(0, nSize), np.abs(resv_jac[ijac,:]))\n",
    "    gsplote.set_data(np.arange(0, nSize), np.abs(resv_gs[igs,:]))\n",
    "\n",
    "    fig.suptitle('Iteration {}'.format(w), fontsize=20)\n",
    "    fig.canvas.draw_idle()\n",
    "\n",
    "interact(update,w=IntSlider(value=0,min=0,max=1000,step=50));\n",
    "# If you cannot use iteractive mode us uncomment the nextwo lines    \n",
    "ani = animation.FuncAnimation(fig, update, repeat_delay=50,interval=50,repeat=False,frames=len(resnorm_gs)-1, blit=True)\n",
    "plt.show()\n",
    "\n",
    "\n",
    "\n",
    "interact(update);"
   ]
  },
  {
   "cell_type": "markdown",
   "metadata": {},
   "source": [
    "## Advanced Iterative Solver"
   ]
  },
  {
   "cell_type": "markdown",
   "metadata": {},
   "source": [
    "### 1D Poisson Problem"
   ]
  },
  {
   "cell_type": "code",
   "execution_count": 8,
   "metadata": {},
   "outputs": [
    {
     "name": "stdout",
     "output_type": "stream",
     "text": [
      "-----------------------------------\n",
      "Summary for Convergence Properties\n",
      "-----------------------------------\n",
      "Solver   CG     BiCGstab   GMRES    AMG\n",
      "Time(s)      0.00     0.01     0.00     0.01\n",
      "Iters         101      113      101        7 \n",
      "Residual    4e-14    1e-07    4e-14    2e-11\n"
     ]
    },
    {
     "name": "stderr",
     "output_type": "stream",
     "text": [
      "/home/mduschen/Private/NERS570/Lectures/Lecture7/nelin.py:57: VisibleDeprecationWarning: Creating an ndarray from ragged nested sequences (which is a list-or-tuple of lists-or-tuples-or ndarrays with different lengths or shapes) is deprecated. If you meant to do this, you must specify 'dtype=object' when creating the ndarray\n",
      "  np.array(scipy.sparse.linalg.bicgstab(A,b,x0=x_0,M=M, tol=1e-10))\n"
     ]
    }
   ],
   "source": [
    "pyamg.gallery.poisson((2000,), format='csr')\n",
    "refx = np.random.rand(A.shape[0])\n",
    "b=A.dot(np.array(refx))\n",
    "nSize=A.shape[0]\n",
    "nelin.PrintCompare(A,x_0,b,refx,M=None)"
   ]
  },
  {
   "cell_type": "markdown",
   "metadata": {},
   "source": [
    "### What do you observe?\n",
    "1. Accuray?\n",
    "2. Speed?\n",
    "3. Iteration Number?"
   ]
  },
  {
   "cell_type": "markdown",
   "metadata": {},
   "source": [
    "Now we increase the size of the matrix."
   ]
  },
  {
   "cell_type": "code",
   "execution_count": null,
   "metadata": {},
   "outputs": [],
   "source": [
    "A1 = pyamg.gallery.poisson((2000,), format='csr')\n",
    "b1 = np.zeros(A1.shape[0])\n",
    "x_1 = np.random.randn(A1.shape[0])\n",
    "refx1 = np.ones(A1.shape[0])\n",
    "b1=A1.dot(np.array(refx1))\n",
    "nSize=A1.shape[0]\n",
    "# Case without Preconditioner\n",
    "nelin.PrintCompare(A1,x_1,b1,refx1,M=None)"
   ]
  },
  {
   "cell_type": "markdown",
   "metadata": {},
   "source": [
    "### What do you observe?\n",
    "1. Accuray?\n",
    "2. Speed?\n",
    "3. Iteration Number?\n",
    "4. Comparing with small size problem?"
   ]
  },
  {
   "cell_type": "markdown",
   "metadata": {},
   "source": [
    "Now we see what happened if we use some preconditioner matrix."
   ]
  },
  {
   "cell_type": "code",
   "execution_count": null,
   "metadata": {},
   "outputs": [],
   "source": [
    "print('For Small Size Problem:')\n",
    "ml = smoothed_aggregation_solver(A)  \n",
    "M = ml.aspreconditioner(cycle='V') \n",
    "nelin.PrintCompare(A,x_0,b,refx,M)\n",
    "\n",
    "\n",
    "print('For Large Size Problem:')\n",
    "ml1 = smoothed_aggregation_solver(A1)  \n",
    "M1 = ml1.aspreconditioner(cycle='V') \n",
    "nelin.PrintCompare(A1,x_1,b1,refx1,M1)"
   ]
  },
  {
   "cell_type": "markdown",
   "metadata": {},
   "source": [
    "### What do you observe?\n",
    "1. Accuray?\n",
    "2. Speed?\n",
    "3. Iteration Number?\n",
    "4. Compare with the unpreconditioned case?"
   ]
  },
  {
   "cell_type": "markdown",
   "metadata": {},
   "source": [
    "### 2D Poisson Problem\n",
    "Now let's look at 2D poisson problem."
   ]
  },
  {
   "cell_type": "code",
   "execution_count": null,
   "metadata": {},
   "outputs": [],
   "source": [
    "B = pyamg.gallery.poisson((100,100), format='csr')\n",
    "b = np.zeros(B.shape[0])\n",
    "x_0 = np.random.randn(B.shape[0])\n",
    "refx = np.ones(B.shape[0])\n",
    "b=B.dot(np.array(refx))\n",
    "nSize=B.shape[0]"
   ]
  },
  {
   "cell_type": "markdown",
   "metadata": {},
   "source": [
    "* Unpreconditioned Case"
   ]
  },
  {
   "cell_type": "code",
   "execution_count": null,
   "metadata": {
    "scrolled": true
   },
   "outputs": [],
   "source": [
    "nelin.PrintCompare(B,x_0,b,refx,M=None)"
   ]
  },
  {
   "cell_type": "markdown",
   "metadata": {},
   "source": [
    "* Preconditioned Case"
   ]
  },
  {
   "cell_type": "code",
   "execution_count": null,
   "metadata": {},
   "outputs": [],
   "source": [
    "ml = smoothed_aggregation_solver(B)  \n",
    "M = ml.aspreconditioner(cycle='V') \n",
    "nelin.PrintCompare(B,x_0,b,refx,M)"
   ]
  },
  {
   "cell_type": "markdown",
   "metadata": {},
   "source": [
    "### 1D Advection-diffusion problem\n",
    "Now let's look at 2D poisson problem."
   ]
  },
  {
   "cell_type": "code",
   "execution_count": null,
   "metadata": {},
   "outputs": [],
   "source": [
    "# This is a advection-convection problem\n",
    "v=-0.02;\n",
    "N=1000;\n",
    "grid=N\n",
    "h=1.0/N;\n",
    "s_ad=1/2.0/h*np.array([0,-3,4,-1]);\n",
    "s_diff=v/(h**2.0)*np.array([1,-2,1,0]);\n",
    "grid=N;\n",
    "A=nelin.stencil_grid_1d(s_ad+s_diff,grid,np.array([-1,0,1,2]),format='csr');\n",
    "refx = np.ones(A.shape[0])\n",
    "b=A.dot(np.array(refx))\n",
    "\n",
    "x_0 = b;"
   ]
  },
  {
   "cell_type": "code",
   "execution_count": null,
   "metadata": {},
   "outputs": [],
   "source": [
    "nelin.PrintCompare(A,x_0,b,refx,M=None)"
   ]
  },
  {
   "cell_type": "markdown",
   "metadata": {},
   "source": [
    "### What do you observe?\n",
    "1. Accuray?\n",
    "2. Speed?\n",
    "3. Iteration Number?\n",
    "4. Why CG failed?\n",
    "5. Why AMG error becomes significantly larger"
   ]
  },
  {
   "cell_type": "markdown",
   "metadata": {},
   "source": [
    "## Error Plot"
   ]
  },
  {
   "cell_type": "code",
   "execution_count": null,
   "metadata": {},
   "outputs": [],
   "source": [
    "%matplotlib notebook\n",
    "from ipywidgets import *\n",
    "import numpy as np\n",
    "import IPython\n",
    "import matplotlib.pyplot as plt\n",
    "import scipy\n",
    "from IPython.display import clear_output\n",
    "A = pyamg.gallery.poisson((100,), format='csr')\n",
    "b = np.zeros(A.shape[0])\n",
    "x_0 = np.sin(np.arange(0,100)/100*np.pi)*2\n",
    "refx = np.ones(A.shape[0])\n",
    "b=A.dot(np.array(refx))\n",
    "nSize=A.shape[0]\n",
    "\n",
    "cg_sol = nelin.solutionvector(nSize,x_0)\n",
    "x_cg,info =  scipy.sparse.linalg.cg(A,b,x0=x_0, tol=1e-10,M=None,callback=cg_sol.store)\n",
    "resv_cg,resnorm_cg=cg_sol.getres(A,b)\n",
    " \n",
    "\n",
    "\n",
    "bicg_sol = nelin.solutionvector(nSize,x_0)\n",
    "\n",
    "x_bicg,info =  scipy.sparse.linalg.bicgstab(A,b,x0=x_0, tol=1e-10,M=None,callback=bicg_sol.store)\n",
    "resv_bicg,resnorm_bicg=bicg_sol.getres(A,b)\n",
    "\n",
    "ml = smoothed_aggregation_solver(A) \n",
    "M = ml.aspreconditioner(cycle='V') \n",
    "amg_sol= nelin.solutionvector(nSize,x_0)    \n",
    "x_amg=ml.solve(b=b,x0=x_0,tol=1e-10,callback=amg_sol.store,accel='cg')\n",
    "resv_amg,resnorm_amg=amg_sol.getres(A,b)\n",
    "\n",
    "\n",
    "\n",
    "cgiter,cgsol=cg_sol.getsol()\n",
    "bicgiter,bicgsol=bicg_sol.getsol()\n",
    "amgiter,amgsol=amg_sol.getsol()\n",
    "\n",
    "\n",
    "\n",
    "\n",
    "fig,axs = plt.subplots(3, 2,figsize=(1600./200,1500./200), dpi=100)\n",
    "fig.subplots_adjust(wspace=0.3)\n",
    "axs[0][0].set_title('CG Iteration Error Residual', fontsize=10)\n",
    "axs[1][0].set_title('BiCG Iteration Error Residual', fontsize=10)\n",
    "axs[2][0].set_title('AMG Iteration Error Residual', fontsize=10)\n",
    "axs[0][0].set_yscale('log')\n",
    "axs[1][0].set_yscale('log')\n",
    "axs[2][0].set_yscale('log')\n",
    "axs[0][1].set_title('CG Iteration Error', fontsize=10)\n",
    "axs[1][1].set_title('BiCG Iteration Error', fontsize=10)\n",
    "axs[2][1].set_title('AMG Iteration Error', fontsize=10)\n",
    "axs[0][1].set_yscale('log')\n",
    "axs[1][1].set_yscale('log')\n",
    "axs[2][1].set_yscale('log')\n",
    "\n",
    "axs[0][0].set_xlim(0,cgiter)\n",
    "axs[1][0].set_xlim(0,bicgiter)\n",
    "axs[2][0].set_xlim(0,amgiter)\n",
    "axs[0][0].set_ylim(1e-12,1)\n",
    "axs[1][0].set_ylim(1e-12,1)\n",
    "axs[2][0].set_ylim(1e-12,1)\n",
    "axs[0][1].set_xlim(0,nSize)\n",
    "axs[1][1].set_xlim(0,nSize)\n",
    "axs[2][1].set_xlim(0,nSize)\n",
    "axs[0][1].set_ylim(1e-16,1)\n",
    "axs[1][1].set_ylim(1e-14,1)\n",
    "axs[2][1].set_ylim(1e-14,1)\n",
    "# animation function.  This is called sequentially\n",
    "\n",
    "cgplot,= axs[0][0].plot([], [], color=colors[0])\n",
    "bicgplot,= axs[1][0].plot([], [], color=colors[1])\n",
    "amgplot,= axs[2][0].plot([], [], color=colors[2])\n",
    "\n",
    "cgplote,= axs[0][1].plot([], [], color=colors[0])\n",
    "bicgplote,= axs[1][1].plot([], [], color=colors[1])\n",
    "amgplote,= axs[2][1].plot([], [], color=colors[2])\n",
    "\n",
    "def update(w=40):\n",
    "    icg=w;\n",
    "    ibicg=w;\n",
    "    iamg=w;\n",
    "    print('Start')\n",
    "    if(w>=cgiter):\n",
    "        icg=cgiter-1\n",
    "    if(w>=bicgiter):\n",
    "        ibicg=bicgiter-1\n",
    "    if(w>=amgiter):\n",
    "        iamg=amgiter-1\n",
    "\n",
    "    cgplot.set_data(np.arange(0, icg+1), resnorm_cg[:icg+1])\n",
    "    bicgplot.set_data(np.arange(0, ibicg+1), resnorm_bicg[:ibicg+1])\n",
    "    amgplot.set_data(np.arange(0, iamg+1), resnorm_amg[:iamg+1])    \n",
    "    cgplote.set_data(np.arange(0, nSize), np.abs(resv_cg[icg,:]))\n",
    "    bicgplote.set_data(np.arange(0, nSize), np.abs(resv_bicg[ibicg,:]))\n",
    "    amgplote.set_data(np.arange(0, nSize), np.abs(resv_amg[iamg,:]))\n",
    "    fig.suptitle('Iteration {}'.format(w), fontsize=20)\n",
    "    fig.canvas.draw_idle()\n",
    "\n",
    "interact(update,w=IntSlider(value=0,min=0,max=100,step=1));\n",
    "# If you cannot use iteractive mode us uncomment the nextwo lines    \n",
    "# ani = animation.FuncAnimation(fig, update, repeat_delay=50,interval=50,repeat=False,frames=len(resnorm_bicg)-1, blit=True)\n",
    "# plt.show()\n",
    "\n",
    "\n",
    "\n",
    "# interact(update)"
   ]
  },
  {
   "cell_type": "markdown",
   "metadata": {},
   "source": [
    "## GMRES: Convergence vs Ritz Value"
   ]
  },
  {
   "cell_type": "code",
   "execution_count": null,
   "metadata": {},
   "outputs": [],
   "source": [
    "# This is a advection-convection problem\n",
    "v=-0.02;\n",
    "N=100;\n",
    "grid=N\n",
    "h=1.0/N;\n",
    "s_ad=1/2.0/h*np.array([0,-3,4,-1]);\n",
    "s_diff=v/(h**2.0)*np.array([1,-2,1,0]);\n",
    "grid=N;\n",
    "A=nelin.stencil_grid_1d(s_ad+s_diff,grid,np.array([-1,0,1,2]),format='csr');\n",
    "refx = np.ones(A.shape[0])\n",
    "b=A.dot(np.array(refx))\n",
    "\n",
    "b = refx+np.random.rand(A.shape[0])*0.01;"
   ]
  },
  {
   "cell_type": "code",
   "execution_count": null,
   "metadata": {},
   "outputs": [],
   "source": [
    "# Calculation the eigenvalue\n",
    "evals = np.linalg.eigvals(np.array(A.todense()))"
   ]
  },
  {
   "cell_type": "code",
   "execution_count": null,
   "metadata": {},
   "outputs": [],
   "source": [
    "# pyplot.figure()\n",
    "# pyplot.plot(evals.real, evals.imag, 'x', color=colors[1], alpha=0.5)\n",
    "# pyplot.xscale('log')\n",
    "# pyplot.xscale('log')\n",
    "# pyplot.title('roots of GMRES polynomial')\n",
    "# pyplot.xlabel('Real part')\n",
    "# pyplot.ylabel('Imaginary part')\n"
   ]
  },
  {
   "cell_type": "code",
   "execution_count": null,
   "metadata": {},
   "outputs": [],
   "source": [
    "import krypy\n",
    "import numpy as np\n",
    "b=b;\n",
    "ls = krypy.linsys.LinearSystem(A, b, Ml=None)\n",
    "solver = krypy.linsys.Gmres(ls, tol=1e-9, store_arnoldi=True)\n",
    "\n",
    "H = solver.H\n",
    "\n",
    "def get_gmres_roots(H):\n",
    "    n_, n = H.shape\n",
    "\n",
    "    from scipy.linalg import eig\n",
    "    theta, _ = eig(H[:n, :])\n",
    "    return theta"
   ]
  },
  {
   "cell_type": "code",
   "execution_count": null,
   "metadata": {},
   "outputs": [],
   "source": [
    "%matplotlib notebook\n",
    "nSize=A.shape[0]\n",
    "fig, axs = pyplot.subplots(ncols=2, figsize=(1920./200,1080./200), dpi=100)\n",
    "fig.subplots_adjust(wspace=0.3)\n",
    "line_res, = axs[0].plot([], [])\n",
    "line_roots, = axs[1].plot([], [], '.', color=colors[0])\n",
    "all_roots = np.concatenate(\n",
    "    [evals] + [get_gmres_roots(H[:i+1, :i]) for i in range(1, n+1)]\n",
    "    )\n",
    "axs[0].set_yscale('log')\n",
    "axs[0].set_xlim(0, n)\n",
    "axs[0].set_ylim(np.min(solver.resnorms), np.max(solver.resnorms))\n",
    "axs[0].set_title('GMRES residual norm')\n",
    "axs[0].set_xlabel('GMRES iteration')\n",
    "axs[0].set_ylabel(r'$\\frac{\\|r_i\\|}{\\|b\\|}$')\n",
    "axs[1].plot(evals.real, evals.imag, 'x', color=colors[1], alpha=0.5)\n",
    "axs[1].set_xlim(0.95*np.min(all_roots.real), 1.05*np.max(all_roots.real))\n",
    "axs[1].set_ylim(1.05*np.min(all_roots.imag), 1.05*np.max(all_roots.imag))\n",
    "axs[0].set_yscale('log')\n",
    "axs[0].set_xlim(0, n)\n",
    "axs[1].set_xscale('log')\n",
    "def update(w):\n",
    "    if w <-1:\n",
    "        w=1\n",
    "    if w > nSize:\n",
    "        w=nSize\n",
    "    line_res.set_data(list(range(0, w+1)), solver.resnorms[:w+1])\n",
    "    print(w)\n",
    "    roots = get_gmres_roots(H[:w+1, :w])\n",
    "    line_roots.set_data(roots.real, roots.imag)\n",
    "    fig.canvas.draw_idle()\n",
    "\n",
    "\n",
    "# interact(update,w=IntSlider(value=0,min=1,max=100,step=1));\n",
    "# interact(update,w=IntSlider(value=1,min=1,max=100,step=1));\n",
    "# If you cannot use iteractive mode us uncomment the nextwo lines    \n",
    "ani = animation.FuncAnimation(fig, update,np.arange(1,101),repeat=False,interval=50)\n",
    "plt.show()"
   ]
  }
 ],
 "metadata": {
  "kernelspec": {
   "display_name": "Python 3",
   "language": "python",
   "name": "python3"
  },
  "language_info": {
   "codemirror_mode": {
    "name": "ipython",
    "version": 3
   },
   "file_extension": ".py",
   "mimetype": "text/x-python",
   "name": "python",
   "nbconvert_exporter": "python",
   "pygments_lexer": "ipython3",
   "version": "3.6.8"
  }
 },
 "nbformat": 4,
 "nbformat_minor": 4
}
